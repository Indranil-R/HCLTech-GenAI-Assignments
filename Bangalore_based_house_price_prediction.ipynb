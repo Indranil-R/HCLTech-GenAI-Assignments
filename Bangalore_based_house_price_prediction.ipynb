{
  "nbformat": 4,
  "nbformat_minor": 0,
  "metadata": {
    "colab": {
      "provenance": [],
      "authorship_tag": "ABX9TyN1Wj8pygJciHqbVpm4bIV/",
      "include_colab_link": true
    },
    "kernelspec": {
      "name": "python3",
      "display_name": "Python 3"
    },
    "language_info": {
      "name": "python"
    }
  },
  "cells": [
    {
      "cell_type": "markdown",
      "metadata": {
        "id": "view-in-github",
        "colab_type": "text"
      },
      "source": [
        "<a href=\"https://colab.research.google.com/github/Indranil-R/Silver-Badge-Assignments/blob/main/Bangalore_based_house_price_prediction.ipynb\" target=\"_parent\"><img src=\"https://colab.research.google.com/assets/colab-badge.svg\" alt=\"Open In Colab\"/></a>"
      ]
    },
    {
      "cell_type": "code",
      "execution_count": null,
      "metadata": {
        "id": "hFnXq05J4wNz"
      },
      "outputs": [],
      "source": [
        "import pandas as pd\n",
        "import seaborn as sns\n",
        "import matplotlib.pyplot as plt"
      ]
    },
    {
      "cell_type": "code",
      "source": [
        "df = pd.read_csv('bangalore_home_prices.csv')"
      ],
      "metadata": {
        "id": "U0aQ_pBz42ds"
      },
      "execution_count": null,
      "outputs": []
    },
    {
      "cell_type": "code",
      "source": [],
      "metadata": {
        "id": "0xarmpQU48ky"
      },
      "execution_count": null,
      "outputs": []
    },
    {
      "cell_type": "code",
      "source": [
        "\n",
        "sns.pairplot(df)\n",
        "plt.suptitle(\"Bangalore House Data\", y=1.02)\n",
        "plt.show()"
      ],
      "metadata": {
        "id": "f4Uv6yi8451t"
      },
      "execution_count": null,
      "outputs": []
    },
    {
      "cell_type": "code",
      "source": [
        "X = df[['area', 'bedrooms', 'bathrooms']]\n",
        "y = df['price']"
      ],
      "metadata": {
        "id": "g34MAQru5Bls"
      },
      "execution_count": null,
      "outputs": []
    },
    {
      "cell_type": "code",
      "source": [
        "from sklearn.linear_model import LinearRegression\n",
        "\n",
        "model = LinearRegression()\n",
        "model.fit(X, y)"
      ],
      "metadata": {
        "id": "COX0Rh1Z5COk"
      },
      "execution_count": null,
      "outputs": []
    },
    {
      "cell_type": "code",
      "source": [
        "predicted_price = model.predict([[1600, 3, 2]])\n",
        "print(\"Predicted Price (in lakhs):\", predicted_price[0])"
      ],
      "metadata": {
        "id": "EKSertO_5IDE"
      },
      "execution_count": null,
      "outputs": []
    },
    {
      "cell_type": "code",
      "source": [
        "coeff_df = pd.DataFrame(model.coef_, X.columns, columns=['Coefficient'])\n",
        "print(coeff_df)"
      ],
      "metadata": {
        "id": "Wz7N9xDj5JKf"
      },
      "execution_count": null,
      "outputs": []
    },
    {
      "cell_type": "code",
      "source": [
        "y_pred = model.predict(X)\n",
        "\n",
        "plt.scatter(y, y_pred)\n",
        "plt.xlabel(\"Actual Prices\")\n",
        "plt.ylabel(\"Predicted Prices\")\n",
        "plt.title(\"Actual vs Predicted Prices\")\n",
        "plt.plot([min(y), max(y)], [min(y), max(y)], color='red')  # Diagonal line\n",
        "plt.show()"
      ],
      "metadata": {
        "id": "kCsTxFTl5ScG"
      },
      "execution_count": null,
      "outputs": []
    }
  ]
}