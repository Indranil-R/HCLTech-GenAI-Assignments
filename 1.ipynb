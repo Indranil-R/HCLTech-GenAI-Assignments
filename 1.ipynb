{
 "cells": [
  {
   "cell_type": "markdown",
   "id": "6e4d232a",
   "metadata": {
    "colab_type": "text",
    "id": "view-in-github"
   },
   "source": [
    "<a href=\"https://colab.research.google.com/github/Indranil-R/Silver-Badge-Assignments/blob/main/1.ipynb\" target=\"_parent\"><img src=\"https://colab.research.google.com/assets/colab-badge.svg\" alt=\"Open In Colab\"/></a>"
   ]
  },
  {
   "cell_type": "markdown",
   "id": "fedf0bdb052283fb",
   "metadata": {
    "id": "fedf0bdb052283fb"
   },
   "source": [
    "# 1. Implement a question answering system with RAG, word embedding, vector database, langchain, llm and any other tools"
   ]
  },
  {
   "cell_type": "code",
   "execution_count": 1,
   "id": "_uTvdx4vwzuI",
   "metadata": {
    "colab": {
     "base_uri": "https://localhost:8080/"
    },
    "id": "_uTvdx4vwzuI",
    "outputId": "fb5ba8b3-9b2d-4172-85ff-bfa683ce3484"
   },
   "outputs": [],
   "source": [
    "# !pip install -q -r requirements.txt"
   ]
  },
  {
   "cell_type": "code",
   "execution_count": 2,
   "id": "initial_id",
   "metadata": {
    "colab": {
     "base_uri": "https://localhost:8080/",
     "height": 349
    },
    "id": "initial_id",
    "outputId": "c26f721b-2eaa-4380-a724-e84f9e898953"
   },
   "outputs": [],
   "source": [
    "import os\n",
    "from os import getenv\n",
    "from langchain_google_genai import GoogleGenerativeAI\n",
    "import getpass\n",
    "from langchain_core.prompts import PromptTemplate\n",
    "from google import genai"
   ]
  },
  {
   "cell_type": "markdown",
   "id": "raUjEUdTz_tg",
   "metadata": {
    "id": "raUjEUdTz_tg"
   },
   "source": [
    "## Creating Embedding from Google API and storing into vector DB and then using it to retreive data"
   ]
  },
  {
   "cell_type": "code",
   "execution_count": 3,
   "id": "d70YTvdy0HgL",
   "metadata": {
    "id": "d70YTvdy0HgL"
   },
   "outputs": [
    {
     "name": "stderr",
     "output_type": "stream",
     "text": [
      "USER_AGENT environment variable not set, consider setting it to identify your requests.\n"
     ]
    }
   ],
   "source": [
    "from langchain_community.document_loaders import WebBaseLoader\n",
    "import bs4"
   ]
  },
  {
   "cell_type": "markdown",
   "id": "Ma14W1zY3t94",
   "metadata": {
    "id": "Ma14W1zY3t94"
   },
   "source": [
    "### Loading the data from Webpage"
   ]
  },
  {
   "cell_type": "code",
   "execution_count": 4,
   "id": "27uHmFk-1qH3",
   "metadata": {
    "id": "27uHmFk-1qH3"
   },
   "outputs": [],
   "source": [
    "# I am fetching the data from SAP page due to API limitations, keeping the data small\n",
    "\n",
    "loader = WebBaseLoader(\n",
    "    web_paths=(\"https://www.sap.com/india/about/company/faq.html\",),\n",
    "    bs_kwargs=dict(\n",
    "        parse_only=bs4.SoupStrainer(\n",
    "            class_=(\"Grid__col-12--cMZPy Grid__col-sm-12--JrL2M Grid__col-md-12--tG5nF Grid__col-lg-12--wWsJK Grid__col-xl-12--v6LlR \")\n",
    "        )\n",
    "    ),\n",
    ")\n",
    "docs = loader.load()"
   ]
  },
  {
   "cell_type": "code",
   "execution_count": 5,
   "id": "94c3ee77-70e4-4140-bb54-bdd296f744cf",
   "metadata": {},
   "outputs": [
    {
     "name": "stdout",
     "output_type": "stream",
     "text": [
      "The data from the webpage is nowsplit into 64 parts\n"
     ]
    }
   ],
   "source": [
    "from langchain_text_splitters import RecursiveCharacterTextSplitter\n",
    "\n",
    "text_splitter = RecursiveCharacterTextSplitter(chunk_size=500, chunk_overlap=100)\n",
    "texts = text_splitter.split_text(docs[0].page_content)\n",
    "\n",
    "print(f\"The data from the webpage is nowsplit into {len(texts)} parts\")"
   ]
  },
  {
   "cell_type": "code",
   "execution_count": 6,
   "id": "zYBNMR7A2wa5",
   "metadata": {
    "id": "zYBNMR7A2wa5"
   },
   "outputs": [],
   "source": [
    "from langchain_chroma import Chroma"
   ]
  },
  {
   "cell_type": "markdown",
   "id": "tAGnbW6T3z-l",
   "metadata": {
    "id": "tAGnbW6T3z-l"
   },
   "source": [
    "### Creating the embedding"
   ]
  },
  {
   "cell_type": "markdown",
   "id": "CIMzb7_M5Gje",
   "metadata": {
    "id": "CIMzb7_M5Gje"
   },
   "source": [
    "### Adding the embedding to Chroma VectorDB"
   ]
  },
  {
   "cell_type": "code",
   "execution_count": 7,
   "id": "641e4915-5a58-4dbf-946a-d4af6d96ded0",
   "metadata": {},
   "outputs": [],
   "source": [
    "import chromadb\n",
    "import chromadb.utils.embedding_functions as embedding_functions\n",
    "\n",
    "# creating chrom client\n",
    "client = chromadb.Client()\n",
    "\n",
    "# use directly\n",
    "google_ef  = embedding_functions.GoogleGenerativeAiEmbeddingFunction(api_key=getenv(\"GOOGLE_API_KEY\"))\n",
    "\n",
    "# pass documents to query for .add and .query\n",
    "collection = client.get_or_create_collection(name=\"SAP\",embedding_function=google_ef)"
   ]
  },
  {
   "cell_type": "code",
   "execution_count": 8,
   "id": "fbf69e2d-bb88-4522-8409-8afdcc88839b",
   "metadata": {},
   "outputs": [],
   "source": [
    "# Embedding the data \n",
    "collection.add(ids=[f\"doc-{i}\" for i in range(len(texts))], documents=texts)"
   ]
  },
  {
   "cell_type": "code",
   "execution_count": 9,
   "id": "9d44b495-b9c7-45bc-8366-644e5f40d172",
   "metadata": {},
   "outputs": [
    {
     "name": "stdout",
     "output_type": "stream",
     "text": [
      "How does SAP ensure data protection and privacy?We have implemented safeguards to help protect the fundamental rights of everyone whose data is processed by SAP, whether they are our customers, prospects, employees, or partners. In addition, we work toward compliance with all relevant legal requirements for data protection. You can find more information in the chapter \"Security, Data Protection and Privacy\" of the SAP Integrated Report, on SAP Trust Center, in the SAP Privacy Statement.\n"
     ]
    }
   ],
   "source": [
    "results = collection.query(\n",
    "    query_texts=[\"How does SAP ensure data protection and privacy\"],\n",
    "    n_results=1\n",
    ")\n",
    "\n",
    "print(results['documents'][0][0])\n"
   ]
  },
  {
   "cell_type": "markdown",
   "id": "t50rdEWJ5X16",
   "metadata": {
    "id": "t50rdEWJ5X16"
   },
   "source": [
    "### Retreive the data"
   ]
  },
  {
   "cell_type": "code",
   "execution_count": 10,
   "id": "xfgzDLx45aHn",
   "metadata": {
    "id": "xfgzDLx45aHn"
   },
   "outputs": [],
   "source": [
    "from langchain_core.prompts import PromptTemplate, ChatPromptTemplate\n",
    "from langchain_core.output_parsers import StrOutputParser\n",
    "from langchain_core.runnables import RunnablePassthrough\n",
    "from langchain.retrievers.multi_query import MultiQueryRetriever"
   ]
  },
  {
   "cell_type": "code",
   "execution_count": 11,
   "id": "anXegayB5dMA",
   "metadata": {
    "id": "anXegayB5dMA"
   },
   "outputs": [],
   "source": [
    "import chromadb.utils.embedding_functions as embedding_functions\n",
    "import chromadb"
   ]
  },
  {
   "cell_type": "code",
   "execution_count": null,
   "id": "11f4a600-8baa-479d-b000-5cf55eb32584",
   "metadata": {},
   "outputs": [],
   "source": []
  },
  {
   "cell_type": "code",
   "execution_count": 12,
   "id": "de44175d-ea8b-40a1-86e6-6688e6d2bef5",
   "metadata": {},
   "outputs": [],
   "source": [
    "# Final part of this RAG application \n",
    "\n",
    "\n",
    "# Fetch results \n",
    "def fetch_results(user_question):\n",
    "    results = collection.query(query_texts=[user_question],n_results=1)\n",
    "    return results['documents'][0][0]"
   ]
  },
  {
   "cell_type": "code",
   "execution_count": 13,
   "id": "64d27f60-190c-41b7-9bb3-6ce0aa0e2ce0",
   "metadata": {},
   "outputs": [
    {
     "name": "stdin",
     "output_type": "stream",
     "text": [
      "What is your question about SAP Does SAP incorporate non-financial measures in its executive compensation?\n"
     ]
    }
   ],
   "source": [
    "from google import genai\n",
    "from google.genai import types\n",
    "\n",
    "question = input(\"What is your question about SAP\")\n",
    "\n",
    "client = genai.Client(api_key=getenv(\"GOOGLE_API_KEY\"))\n",
    "\n",
    "# Send request with function declarations\n",
    "response = client.models.generate_content(\n",
    "    model=\"gemini-2.0-flash\",\n",
    "    contents=f\"I will provide you with a question and answer your task is to present the answer into a more professinal format, The user has asked the question {question} and the answer is {fetch_results(question)}. Strictly follow the question and answer pattern only, Do not add any other info\",\n",
    ")\n"
   ]
  },
  {
   "cell_type": "code",
   "execution_count": 14,
   "id": "2f9c92f7-fc4e-4b0a-af8f-f1d4bda9fd60",
   "metadata": {},
   "outputs": [
    {
     "name": "stdout",
     "output_type": "stream",
     "text": [
      "**Question:** Does SAP incorporate non-financial measures in its executive compensation?\n",
      "\n",
      "**Answer:** Since 2020, SAP’s executive short-term incentive (STI) compensation includes sustainability targets (sustainability KPIs) on top of our financial targets with a total weight of 20%. The sustainability KPIs are: Customer Net Promoter Score, which measures SAP’s customer loyalty; Employee Engagement Index, which measures SAP’s employee commitment, pride, and loyalty; and Carbon Impact, which measures SAP’s greenhouse gas.\n",
      "\n"
     ]
    }
   ],
   "source": [
    "print(response.text)"
   ]
  }
 ],
 "metadata": {
  "colab": {
   "include_colab_link": true,
   "provenance": []
  },
  "kernelspec": {
   "display_name": "Python 3 (ipykernel)",
   "language": "python",
   "name": "python3"
  },
  "language_info": {
   "codemirror_mode": {
    "name": "ipython",
    "version": 3
   },
   "file_extension": ".py",
   "mimetype": "text/x-python",
   "name": "python",
   "nbconvert_exporter": "python",
   "pygments_lexer": "ipython3",
   "version": "3.9.17"
  }
 },
 "nbformat": 4,
 "nbformat_minor": 5
}
