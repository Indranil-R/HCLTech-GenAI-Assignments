{
  "cells": [
    {
      "cell_type": "markdown",
      "metadata": {
        "id": "view-in-github",
        "colab_type": "text"
      },
      "source": [
        "<a href=\"https://colab.research.google.com/github/Indranil-R/Silver-Badge-Assignments/blob/main/1.ipynb\" target=\"_parent\"><img src=\"https://colab.research.google.com/assets/colab-badge.svg\" alt=\"Open In Colab\"/></a>"
      ]
    },
    {
      "metadata": {
        "id": "fedf0bdb052283fb"
      },
      "cell_type": "markdown",
      "source": [
        "# 1. Implement a question answering system with RAG, word embedding, vector database, langchain, llm and any other tools"
      ],
      "id": "fedf0bdb052283fb"
    },
    {
      "cell_type": "code",
      "source": [
        "!pip install -qU -r requirements.txt"
      ],
      "metadata": {
        "colab": {
          "base_uri": "https://localhost:8080/"
        },
        "id": "_uTvdx4vwzuI",
        "outputId": "cfada464-e99a-43c6-9399-a792f58a477d"
      },
      "id": "_uTvdx4vwzuI",
      "execution_count": 4,
      "outputs": [
        {
          "output_type": "stream",
          "name": "stdout",
          "text": [
            "\u001b[2K   \u001b[90m━━━━━━━━━━━━━━━━━━━━━━━━━━━━━━━━━━━━━━━━\u001b[0m \u001b[32m793.8/793.8 kB\u001b[0m \u001b[31m33.8 MB/s\u001b[0m eta \u001b[36m0:00:00\u001b[0m\n",
            "\u001b[2K   \u001b[90m━━━━━━━━━━━━━━━━━━━━━━━━━━━━━━━━━━━━━━━━\u001b[0m \u001b[32m13.0/13.0 MB\u001b[0m \u001b[31m107.8 MB/s\u001b[0m eta \u001b[36m0:00:00\u001b[0m\n",
            "\u001b[2K   \u001b[90m━━━━━━━━━━━━━━━━━━━━━━━━━━━━━━━━━━━━━━━━\u001b[0m \u001b[32m1.3/1.3 MB\u001b[0m \u001b[31m58.8 MB/s\u001b[0m eta \u001b[36m0:00:00\u001b[0m\n",
            "\u001b[2K   \u001b[90m━━━━━━━━━━━━━━━━━━━━━━━━━━━━━━━━━━━━━━━━\u001b[0m \u001b[32m42.0/42.0 kB\u001b[0m \u001b[31m2.4 MB/s\u001b[0m eta \u001b[36m0:00:00\u001b[0m\n",
            "\u001b[?25h"
          ]
        }
      ]
    },
    {
      "cell_type": "code",
      "execution_count": 5,
      "id": "initial_id",
      "metadata": {
        "collapsed": true,
        "id": "initial_id"
      },
      "outputs": [],
      "source": [
        "from os import getenv\n",
        "from langchain_google_genai import GoogleGenerativeAI\n",
        "from google import genai"
      ]
    },
    {
      "cell_type": "code",
      "source": [
        "from google.colab import userdata"
      ],
      "metadata": {
        "id": "19s3rdhYxvRF"
      },
      "id": "19s3rdhYxvRF",
      "execution_count": 9,
      "outputs": []
    },
    {
      "cell_type": "code",
      "source": [
        "llm = GoogleGenerativeAI(model=\"models/gemini-2.0-flash\",google_api_key=userdata.get('GOOGLE_API_KEY'))\n",
        "print(\n",
        "    llm.invoke(\n",
        "        \"What are some of the pros and cons of Python as a programming language?\"\n",
        "    )\n",
        ")"
      ],
      "metadata": {
        "collapsed": true,
        "colab": {
          "base_uri": "https://localhost:8080/"
        },
        "id": "U8rMb2I1wgpY",
        "outputId": "5aa31800-7a73-46e2-e377-f5418d677af5"
      },
      "id": "U8rMb2I1wgpY",
      "execution_count": 10,
      "outputs": [
        {
          "output_type": "stream",
          "name": "stdout",
          "text": [
            "## Pros and Cons of Python as a Programming Language\n",
            "\n",
            "Python is a versatile and popular programming language known for its readability and extensive libraries. However, like any language, it has its strengths and weaknesses. Here's a breakdown of the pros and cons:\n",
            "\n",
            "**Pros:**\n",
            "\n",
            "*   **Readability and Simplicity:**\n",
            "    *   **Pro:** Python's syntax is designed to be clear and concise, making it easier to read and understand, even for beginners. It emphasizes code readability through indentation, reducing the need for excessive punctuation and brackets.\n",
            "    *   **Benefit:** Faster development time, easier collaboration, and reduced maintenance costs.\n",
            "\n",
            "*   **Large and Active Community:**\n",
            "    *   **Pro:** Python boasts a massive and supportive community of developers. This translates to readily available resources, tutorials, forums, and libraries.\n",
            "    *   **Benefit:** Easier to find solutions to problems, learn new skills, and get help when needed.\n",
            "\n",
            "*   **Extensive Libraries and Frameworks:**\n",
            "    *   **Pro:** Python has a vast collection of pre-built modules and packages covering a wide range of tasks, including web development (Django, Flask), data science (NumPy, Pandas, Scikit-learn), machine learning (TensorFlow, PyTorch), and more.\n",
            "    *   **Benefit:** Speeds up development by providing ready-to-use components, reducing the need to write code from scratch.\n",
            "\n",
            "*   **Cross-Platform Compatibility:**\n",
            "    *   **Pro:** Python code can run on various operating systems (Windows, macOS, Linux) without significant modifications.\n",
            "    *   **Benefit:** Increases portability and reduces development costs for multi-platform applications.\n",
            "\n",
            "*   **Versatile and Multi-Paradigm:**\n",
            "    *   **Pro:** Python supports various programming paradigms, including procedural, object-oriented, and functional programming.\n",
            "    *   **Benefit:** Offers flexibility in choosing the most appropriate approach for different tasks and projects.\n",
            "\n",
            "*   **Dynamically Typed:**\n",
            "    *   **Pro:** Variable types are checked at runtime, which can speed up development.\n",
            "    *   **Benefit:** Less boilerplate code related to type declarations.\n",
            "\n",
            "*   **Automatic Memory Management:**\n",
            "    *   **Pro:** Python handles memory allocation and deallocation automatically through garbage collection.\n",
            "    *   **Benefit:** Reduces the risk of memory leaks and simplifies development.\n",
            "\n",
            "*   **Great for Prototyping:**\n",
            "    *   **Pro:** Python's rapid development capabilities make it ideal for creating prototypes and proof-of-concept applications quickly.\n",
            "    *   **Benefit:** Allows for faster iteration and validation of ideas.\n",
            "\n",
            "**Cons:**\n",
            "\n",
            "*   **Slower Execution Speed:**\n",
            "    *   **Con:** Python is generally slower than compiled languages like C++ or Java due to its interpreted nature and dynamic typing.\n",
            "    *   **Impact:** Can be a bottleneck for CPU-intensive applications or tasks requiring high performance.  However, this can be mitigated with optimized libraries (like NumPy for numerical computations) that are often implemented in lower-level languages.\n",
            "\n",
            "*   **Global Interpreter Lock (GIL):**\n",
            "    *   **Con:** The GIL limits true parallelism in multi-threaded Python programs, especially for CPU-bound tasks.  Only one thread can hold control of the Python interpreter at any given time.\n",
            "    *   **Impact:** Hinders performance on multi-core processors for certain types of applications.  Solutions include using multi-processing (which has its own overhead) or relying on libraries that release the GIL for specific operations.\n",
            "\n",
            "*   **Runtime Errors:**\n",
            "    *   **Con:** Due to dynamic typing, errors related to type mismatches or missing attributes may not be detected until runtime.\n",
            "    *   **Impact:** Can lead to unexpected crashes or incorrect behavior.  However, type hinting and static analysis tools can help catch many of these errors earlier in the development process.\n",
            "\n",
            "*   **Memory Consumption:**\n",
            "    *   **Con:** Python can be more memory-intensive than some other languages due to its object-oriented nature and the way it handles data structures.\n",
            "    *   **Impact:** Can be a concern for memory-constrained environments or applications dealing with large datasets.\n",
            "\n",
            "*   **Mobile Development Limitations:**\n",
            "    *   **Con:** While frameworks like Kivy and BeeWare exist, Python is not as widely used or well-suited for native mobile app development compared to languages like Java/Kotlin (Android) or Swift/Objective-C (iOS).\n",
            "    *   **Impact:** May require using other technologies for mobile app development.\n",
            "\n",
            "*   **Versioning Issues:**\n",
            "    *   **Con:**  In the past, the transition from Python 2 to Python 3 caused some compatibility issues.  While Python 2 is now deprecated, it's still important to be aware of the potential for version-related problems, especially when dealing with older code or dependencies.\n",
            "\n",
            "**In Summary:**\n",
            "\n",
            "Python is an excellent choice for a wide range of applications, particularly those where rapid development, readability, and a rich ecosystem of libraries are paramount.  However, it's important to be aware of its limitations, particularly regarding performance, and consider whether it's the right tool for the job, especially when dealing with performance-critical applications.  Often, a hybrid approach, using Python for the majority of the application and optimizing performance-critical sections with other languages, can be a viable solution.\n",
            "\n"
          ]
        }
      ]
    },
    {
      "cell_type": "code",
      "source": [
        "from langchain_core.prompts import PromptTemplate"
      ],
      "metadata": {
        "id": "i6Sflr94xgpU"
      },
      "id": "i6Sflr94xgpU",
      "execution_count": 11,
      "outputs": []
    },
    {
      "cell_type": "code",
      "source": [
        "template = \"\"\"Question: {question}\n",
        "\n",
        "Answer: What is the answer?.\"\"\"\n",
        "prompt = PromptTemplate.from_template(template)\n",
        "\n",
        "chain = prompt | llm\n",
        "\n",
        "question = \"How much is 2+2?\"\n",
        "\n",
        "# print(chain.invoke({\"question\": question}))"
      ],
      "metadata": {
        "colab": {
          "base_uri": "https://localhost:8080/"
        },
        "id": "a--YAv6iyKKl",
        "outputId": "a4dca64b-82fb-4a3d-b7d7-7259265a970d"
      },
      "id": "a--YAv6iyKKl",
      "execution_count": 23,
      "outputs": [
        {
          "output_type": "stream",
          "name": "stdout",
          "text": [
            "input_variables=['question'] input_types={} partial_variables={} template='Question: {question}\\n\\nAnswer: What is the answer?.'\n"
          ]
        }
      ]
    },
    {
      "cell_type": "code",
      "source": [
        "print(chain.invoke({\"question\": \"now tell me 2+2\"}))"
      ],
      "metadata": {
        "colab": {
          "base_uri": "https://localhost:8080/"
        },
        "id": "XLFp-w4OyNAE",
        "outputId": "ab192d58-c03a-4a6a-82f3-ea37d0daa319"
      },
      "id": "XLFp-w4OyNAE",
      "execution_count": 15,
      "outputs": [
        {
          "output_type": "stream",
          "name": "stdout",
          "text": [
            "The answer to 2 + 2 is 4.\n",
            "\n"
          ]
        }
      ]
    },
    {
      "cell_type": "code",
      "source": [
        "import getpass\n",
        "import os\n",
        "\n",
        "from langchain.chat_models import init_chat_model\n",
        "\n",
        "if not os.environ.get(\"GOOGLE_API_KEY\"):\n",
        "  os.environ[\"GOOGLE_API_KEY\"] = userdata.get('GOOGLE_API_KEY')\n",
        "\n",
        "model = init_chat_model(\"gemini-2.0-flash\", model_provider=\"google_genai\")\n",
        "\n",
        "model.invoke(\"Please do not tel me about yourself!\")"
      ],
      "metadata": {
        "colab": {
          "base_uri": "https://localhost:8080/"
        },
        "id": "oSA7VexqyUP_",
        "outputId": "98e5b038-a2df-4672-c816-ba2d82ba1c16"
      },
      "id": "oSA7VexqyUP_",
      "execution_count": 21,
      "outputs": [
        {
          "output_type": "execute_result",
          "data": {
            "text/plain": [
              "AIMessage(content=\"Understood. I won't tell you anything about myself. How can I help you with something else?\", additional_kwargs={}, response_metadata={'prompt_feedback': {'block_reason': 0, 'safety_ratings': []}, 'finish_reason': 'STOP', 'safety_ratings': []}, id='run--ae263354-25b9-4bbd-9200-879c504dca79-0', usage_metadata={'input_tokens': 8, 'output_tokens': 22, 'total_tokens': 30, 'input_token_details': {'cache_read': 0}})"
            ]
          },
          "metadata": {},
          "execution_count": 21
        }
      ]
    },
    {
      "cell_type": "code",
      "source": [],
      "metadata": {
        "id": "wEE_3yu5zoDS"
      },
      "id": "wEE_3yu5zoDS",
      "execution_count": null,
      "outputs": []
    },
    {
      "cell_type": "markdown",
      "source": [
        "## Creating Embedding from Google API and storing into vector DB and then using it to retreive data"
      ],
      "metadata": {
        "id": "raUjEUdTz_tg"
      },
      "id": "raUjEUdTz_tg"
    },
    {
      "cell_type": "code",
      "source": [
        "from langchain_community.document_loaders import WebBaseLoader\n",
        "import bs4"
      ],
      "metadata": {
        "collapsed": true,
        "id": "d70YTvdy0HgL"
      },
      "id": "d70YTvdy0HgL",
      "execution_count": 28,
      "outputs": []
    },
    {
      "cell_type": "markdown",
      "source": [
        "### Loading the data from Webpage"
      ],
      "metadata": {
        "id": "Ma14W1zY3t94"
      },
      "id": "Ma14W1zY3t94"
    },
    {
      "cell_type": "code",
      "source": [
        "# I am fetching the data from SAP page due to API limitations, keeping the data small\n",
        "loader = WebBaseLoader(\n",
        "    web_paths=(\"https://www.sap.com/india/about/company/faq.html\",),\n",
        "    bs_kwargs=dict(\n",
        "        parse_only=bs4.SoupStrainer(\n",
        "            class_=(\"Grid__col-12--cMZPy Grid__col-sm-12--JrL2M Grid__col-md-12--tG5nF Grid__col-lg-12--wWsJK Grid__col-xl-12--v6LlR \")\n",
        "        )\n",
        "    ),\n",
        ")\n",
        "docs = loader.load()"
      ],
      "metadata": {
        "id": "27uHmFk-1qH3"
      },
      "id": "27uHmFk-1qH3",
      "execution_count": 29,
      "outputs": []
    },
    {
      "cell_type": "code",
      "source": [
        "print(docs)"
      ],
      "metadata": {
        "colab": {
          "base_uri": "https://localhost:8080/"
        },
        "id": "FgFwCaEF2DJT",
        "outputId": "26446c76-4533-4c88-a386-1d781fa2af10"
      },
      "id": "FgFwCaEF2DJT",
      "execution_count": 30,
      "outputs": [
        {
          "output_type": "stream",
          "name": "stdout",
          "text": [
            "[Document(metadata={'source': 'https://www.sap.com/india/about/company/faq.html'}, page_content='When was SAP founded?In 1972, five former IBM employees founded the company they call SAP Systemanalyse und Programmentwicklung (\"System Analysis and Program Development\").Taking the initial form of a private partnership under the German Civil Code, the company establishes its headquarters in Weinheim, Germany, and opens an office in nearby Mannheim. However, SAP\\'s five founders spend most of their time in the data centres of their first customers, which include the German branch of Imperial Chemical Industries in Östringen.\\nFurther information can be found on the\\xa0SAP History page.What does the acronym \"SAP\" stand for?\"SAP\" stands for Systems, Applications, and Products in Data Processing.\\nWhat is SAP’s vision and mission?We bring out the best in every business.\\nThat\\'s SAP\\'s vision.\\xa0\\n\\xa0\\nTo turn this vision into reality for our customers, we have set ourselves the following three goals as mission: \\n\\xa0\\nAgility at scale\\nConfidently navigate dynamic markets with purpose-built innovations designed for quick implementation, swift scaling, and rapid response\\n\\xa0\\nAchieve more across the value chain\\nTap into the trusted and scalable business ecosystem, harnessing the intelligence across your internal systems and external partnerships to optimise performance across your value chain.\\nExplore more\\n\\xa0\\nSustainability at your core\\nTransform your operations with next-generation solutions that drive more accurate and actionable sustainability management across your entire enterprise.\\nExplore more What is the business outlook for the current fiscal year and your mid-term ambition?The outlook and mid-term ambition can be found in the Quarterly Statement on our Recent Results page.\\nAre you planning to grow organically or through acquisitions?Organic growth remains the primary driver of our strategy. We will continue to invest in our own product development and technology innovation, improving the speed, number of projects, and innovations brought to market. We will also continue to acquire targeted, strategic, and “fill-in” technology and software to add to our broad solution offerings and improve coverage in key strategic markets. By doing so, we will strive to best support our customers’ needs for simplified operations. Additional information and details about acquisitions in the past can be found on the Acquisitions page.\\nWhere can I find information about the SAP Executive Board?Find more information about the SAP Executive Board\\xa0here.\\nWhy was SAP AG converted into an SE?The change of legal form from a stock corporation under German law to a European Company was made to manifest SAP’s self-image as an international player with European roots. Presenting itself as a European Company thus reflects the importance of the Company’s European and international operations.\\nWhat is SAP\\'s current headcount?Our employee headcount is updated regularly in the\\xa0Quarterly Statement.\\xa0\\nDo SAP employees participate in the company\\'s success?SAP offers its employees and managers various investment programmes. A comprehensive overview about all employee related topics can be found in the SAP Integrated Report.What is SAP’s purpose and overarching strategic approach to sustainability?SAP’s purpose is to help the world run better and improve people\\'s lives with sustainability at the core. Our objective is to create a positive economic, environmental, and social impact worldwide within planetary boundaries. We bring this to life by providing products and services that meet the sustainability challenges and opportunities of our customers (enabler) and leading by example in our own sustainable business operations and practices (exemplar). Learn about our approach to sustainability.\\nWhy is SAP focusing on sustainability?SAP has been on its sustainability journey for more than a decade and is a recognised leader as a sustainably run company. This has given us the insights and experience to respond to the increasing demands from customers, partners, investors, and employees for SAP to not only run our company more sustainably, but also to use our position to enable customers to run more sustainably, too. There is an urgency to this as many reports indicate that climate change, waste, and social inequalities are becoming increasingly acute problems around the world. We believe sustainability is the new frontier of digital transformation. We want to help customers reinvent themselves as intelligent and sustainable enterprises. We want to help them make sustainability profitable and profitability sustainable. We believe this is a long-term strategic imperative that will help SAP grow while helping our customers achieve their overall corporate ambitions which increasingly centre around running sustainably.What is SAP Cloud for Sustainable Enterprises?SAP Cloud for Sustainable Enterprises is a flexible solution bundle of sustainability-focused applications to help companies achieve holistic sustainability management. Companies can now integrate sustainability metrics seamlessly into their end-to-end business processes. We realise each company is at a different stage of implementing sustainable performance, so SAP Cloud for Sustainable Enterprises provides maximum flexibility for customers to choose which solutions and capabilities they want to incorporate into their sustainability management portfolio at the time that is right for them. The solutions can be broadly adopted for holistic management, or selectively implemented to operationalise specific areas of sustainability performance. The customisable suite is easy for companies to adopt with a single license, and SAP expert implementation support and our highly skilled partner ecosystem.How do SAP Sustainability solutions help create environmental and social impact?SAP’s products and services help deliver environmental and social impact on four dimensions including climate action, circular economy, social responsibility, and holistic steering and reporting.\\nHolistic sustainability management: SAP’s sustainability and ESG reporting solutions contribute to a future where decisions in our global economy are made based on their sustainability impact. Example:\\xa0SAP Sustainability Control Tower\\xa0helps organisations connect their environmental, social, and financial data holistically so they can steer their business towards sustainability.Climate action: SAP’s climate change solutions contribute to a future with zero emissions. Example:\\xa0SAP Product Footprint Management\\xa0enables organisations to assess and reduce greenhouse gas emissions of their products and operations along their entire value chain.Circular economy: SAP’s circular economy solutions contribute to a future with zero waste. Example:\\xa0SAP Responsible Design and Production\\xa0enables organisations to make circularity a key principle of product design and production. It helps them re-use materials, protect resources, eliminate waste, and build regenerative businesses.Social responsibility: SAP’s social responsibility solutions contribute to a future with zero inequality. Example:\\xa0SAP Business Network\\xa0and our\\xa0SAP SuccessFactors HCM\\xa0provide the visibility needed to support organisations in integrating ethical and socially responsible sustainable business practices to ensure diversity, equity, and inclusion across the entire value chain.What is the impact of SAP Sustainability solutions?The most sustainable companies across industries run SAP97% of the greenest companies in the world run SAP90% of the most socially responsible companies in the world run SAPSAP has the best ESG Score in the Software industryThe most sustainable companies run SAP with 73% higher ESG Scores and 24% lower CO2 emissionsThe most sustainable companies run SAP S/4HANA with 50% higher ESG ScoresThe data used comes largely from our internal Best Run Intelligence team which has licensed the S&P 500 ESG disclosure data set and has run analysis on the data. Many of the S&P 500 companies are SAP customers. Other data comes from commissioned research conducted by Oxford Economics.\\n(All data based on a 2021 data set.)\\nDoes SAP have any customers for its sustainability solutions? Yes,\\u202fwe are working with companies of all sizes, across geographies and industries, at various stages of maturity from pilots to full deployment.\\u202f Hear the stories of our visionary customers using SAP Sustainability solutions.\\nHow much can SAP Sustainability solutions reduce greenhouse gas (GHG) emissions by customers?Global market analysis of GHG emission efficiency (a measurement of GHG emissions as a percent of revenue) indicates the gap between average and top performers by industry is 14%. SAP customers are responsible for 87% of total global commerce, they are also responsible for 84% of total global GHG emissions. SAP can help customers reduce their emissions by up to 14%, or an equivalent of 5 billion tons annually.\\nHow does SAP tackle climate change and deal with climate risks and their financial impact?SAP addresses\\xa0sustainability, including\\xa0climate action, as one of our key focus areas through a dual approach. As an\\xa0enabler, we aim to provide products and services to our customers to reduce their carbon emissions and pave the way toward a low-carbon future together. As an\\xa0exemplar, to live up to our responsibility and build climate resilience, we strive to lead by example by running our own business operations and practices more sustainably.\\n\\xa0\\nTo get insights into how SAP addresses climate change with our three-fold approach “avoid-reduce-compensate,” please see the SAP Integrated Report. SAP’s environmental efforts and targets are also outlined in the\\xa0Global Environmental Policy.\\n\\xa0\\nFor an overview of how SAP embeds sustainability in our solution portfolio, please\\xa0visit our Web site.\\n\\xa0\\nSince 2018,\\xa0SAP reports in alignment with the Task Force on Climate-Related Financial Disclosures (TCFD) recommendations. The topic of climate change-related risks is addressed in the chapter\\xa0\"Energy and Emissions\" \\xa0of our Integrated Report.\\nWhat’s SAP’s own net-zero ambition?More than a decade ago, SAP set out on its sustainability journey with the objective to create positive economic, environmental, and social impact within planetary boundaries. Along the way, we have continuously added and raised financial as well as pre-financial targets and established ourselves as a front-runner in integrating\\xa0economic, social, and environmental performance into how we measure and steer our business success holistically.\\xa0\\n\\xa0\\nIn January 2022, we committed to achieve net zero across our value chain by 2030 – 20 years earlier than originally planned. This moves forward our commitment by 20 years.\\xa0\\n\\xa0\\nOn our pathway towards net zero, the next intermediate milestone is 2023, when SAP aims to be carbon neutral in its own operations – two years earlier than originally targeted. This includes all direct (Scope 1), indirect (Scope 2), and selected categories of value chain (Scope 3) carbon emissions, such as business flights, employee commuting, and external data centres (co-locations and hyperscalers). The potential for decarbonization can however be amplified considerably if we enhance our efforts along the entire value chain. In 2022, gross carbon emissions amounted to 10,688 kilotons (kt) along SAP’s entire value chain (including upstream and downstream emissions), compared to 441 kt gross emissions for SAP’s own operations (see Integrated Report 2023).Does SAP have an Environmental Management System (EMS) in place?SAP is committed to protecting the environment and continuously improving our own environmental performance. Therefore, we are gradually introducing an EMS reflecting the ISO 14001 standard at SAP sites worldwide. We aim to increase the EMS scope to 100% of SAP’s major company-owned sites by 2025 (2022: 85%). In addition, an ISO 50001-certified energy management system is integrated with existing management systems at selected sites, such as SAP’s headquarters. View our\\xa0ISO certificates\\xa0on sap.com (go to “Energy and environmental management”).\\nHow does SAP fight plastic pollution and contribute to a circular economy transition?SAP aspires to a world of zero waste and is eager to move to an interconnected, circular economy through ambitious enabler and exemplar activities. As an example, in July 2019, SAP launched the initiative\\xa0Beyond Single-Use Plastics to phase out single-use plastics in our own operations, a project which\\xa0concluded in June 2021. In 2020, at the World Economic Forum, SAP joined the Global Plastic Action Partnership to\\xa0create a cleaner ocean by 2030\\xa0and became part of the\\xa0Ellen MacArthur Foundation\\xa0to pave the way to a circular economy.\\xa0\\nWe also manage our electrical and electronic waste (e-waste) responsibly by cooperating with international and local IT asset lifecycle partners that help us to refurbish, recycle, and sustainably dispose our discarded devices. Further details can be found on our\\xa0Circular Economy Web site\\xa0and our\\xa0Integrated Report.\\n\\xa0\\nSAP also aims at helping its clients fighting against plastic pollution and becoming more circular. More about\\xa0SAP solutions for Circular Economy \\xa0can be found on sap.com.\\xa0\\nDoes SAP publish an Integrated Report?Since 2012, we annually release an Integrated Report which combines our full-year financial, social, and environmental performance, allowing us to present a clear and holistic overview of what drives our company and our long-term success. The current SAP Integrated Report can be found at\\xa0www.sapintegratedreport.com.\\nWhat does connectivity of financial and non-financial indicators mean and how does it relate to holistic steering and reporting?Connecting financial and non-financial ESG metrics is key to comprehensively analysing all dimensions of a company’s performance and working toward their integration and harmonisation. On this journey, digital technologies play a fundamental role in delivering embedded, validated, and real-time data. In addition to the perspective of connecting financial and non-financial ESG metrics, holistic steering and reporting integrates the dimensions of positive and negative impacts that businesses create along their complete value chain.\\n\\xa0\\nBuilding on our experience in connecting financial and non-financial measures,\\xa0we co-founded\\xa0the\\xa0Value Balancing Alliance\\xa0(VBA) in 2019 to support the development of a standardised impact measurement and valuation methodology that helps companies, investors, and other stakeholders understand, quantify and compare financial and non-financial performance. These insights enable companies to create business value beyond revenue or profit growth while taking into consideration the long-term impacts of business operations on the environment and society as a whole. Further details on SAP’s journey on holistic steering and reporting and the results of the third VBA methodology pilot phase can be found\\xa0in our Integrated Report.What non-financial performance indicators does SAP use for steering?SAP uses the following three key measures: Customer Net Promoter Score (NPS), Employee Engagement Index, and carbon impact. Outlook and results for the current year can be found in the\\xa0SAP Integrated Report.\\n\\xa0\\nIn addition, SAP tracks further\\xa0social\\xa0and\\xa0environmental indicators, such as women in management, employee retention, the Business Health Culture Index, energy consumption, and e-waste. Please review SAP’s Finance and ESG Data Hub where we display employee indicators and environmental metrics.\\nDoes SAP incorporate non-financial measures in its executive compensation?Since 2020, SAP’s executive short-term incentive (STI) compensation includes sustainability targets (sustainability KPIs) on top of our financial targets with a total weight of 20%. The sustainability KPIs are: Customer Net Promoter Score, which measures SAP’s customer loyalty; Employee Engagement Index, which measures SAP’s employee commitment, pride, and loyalty; and Carbon Impact, which measures SAP’s greenhouse gas emissions.\\nHow does SAP identify its key sustainability topics for reporting?To select the topics to be included in our integrated reporting, we conducted a comprehensive materiality assessment in 2022, applying the requirements of the German Commercial Code as well as the newly introduced materiality definition of the Universal Standards of the Global Reporting Initiative (GRI): “Material topics are topics that represent an organisation’s most significant impacts on the economy, environment, and people, including impacts on their human rights.”\\n\\xa0\\nHave a look at our Integrated Report for further details about the key stages of the process we followed to assess the significance of each economic, social, and environmental impact.Does SAP use any standards or frameworks for its sustainability reporting?Yes, the social and environmental data and information included in SAP’s Integrated Report was prepared in accordance with the GRI Standards. Please see our latest\\xa0GRI Content Index\\xa0for further details. Furthermore, we have committed to several additional multilateral standards to cover a wide scope of responsibilities, stakeholder needs, and sustainability aspects:\\nStakeholder Capitalism MetricsSASB IndexTask Force on Climate-Related Financial Disclosure (TCFD)EU Non-Financial Reporting DirectiveEU Taxonomy DisclosuresGreenhouse Gas (GHG) Protocol for carbon accounting\\xa0\\nWhat does SAP undertake to prevent and fight corruption and bribery?SAP is committed to the highest standards of ethical business. We have a robust compliance framework to support employees in acting ethically and compliantly and within the law in all the markets in which we operate. The framework includes clear Policies, Codes, and a Global network of experts, all underpinned by a\\xa0Global Code of Ethics & Business Conduct\\xa0(the Code) which includes, amongst other topics, loyalty, bribery and corruption, and confidentiality.\\n\\n\\xa0\\nFor more information, please see the chapter\\xa0“Business Conduct” in the SAP Integrated Report and/or\\xa0Ethics and Compliance at SAP\\xa0on sap.com.\\nDoes SAP have a Corporate Tax Strategy?Yes, learn more about\\xa0SAP’s Global Tax Principles\\xa0here.\\nHow does SAP ensure data protection and privacy?We have implemented safeguards to help protect the fundamental rights of everyone whose data is processed by SAP, whether they are our customers, prospects, employees, or partners. In addition, we work toward compliance with all relevant legal requirements for data protection. You can find more information in the chapter\\xa0\"Security, Data Protection and Privacy\" of the SAP Integrated Report, on\\xa0SAP Trust Center, in the\\xa0SAP Privacy Statement.\\nWhat is SAP’s commitment to human rights and labour standards?As a signatory of the UN Global Compact since 2000,\\xa0SAP believes companies have a responsibility to respect human rights\\xa0throughout all business operations. SAP is committed to respecting and promoting human rights across our operations, extended supply chain, and product lifecycle. We set high standards of fairness, diversity, and inclusion for ourselves, and expect all of our business partners to respect human rights and avoid complicity in any abuse.\\xa0\\nWe take guidance from the UN Guiding Principles on Business and Human Rights as well as legal requirements like the German Supply Chain Due Diligence Act (Lieferkettensorgfaltspflichtengesetz, LkSG), to operationalise our commitment.\\n\\xa0\\nFurther key References:\\nSAP Integrated Report 2023, chapter Human RightsSAP Human Rights Commitment StatementSAP’s Artificial Intelligence (AI) web site where you find SAP’s Guiding Principles for Artificial Intelligence, the SAP Global AI Ethics Policy, and the AI Ethics HandbookSAP Supplier Code of Conduct\\xa0Where do you report how and to what extent SAP activities are eligible and aligned with the EU Taxonomy?Please see our Integrated Report for related disclosures.\\nHow does SAP contribute to the 17 UN Sustainable Development Goals (SDGs)?SAP embraces the 17 UN Sustainable Development Goals (SDGs) and embedded the framework as a foundation to our strategic approach to sustainability. We use this framework to evaluate global progress – both for our roles as a role model and exemplar and as an enabler. Our contribution to the SDGs is a cross-company effort driven by experts from almost every board area and aligned through the internal SDG Network. Engagement with customers and other activities contributing to the SDGs are addressed in our\\xa0Integrated Report, where we describe the potential positive and negative direct or indirect impacts of our company and of our products and services related to the SDGs.\\nAre any of SAP’s institutional investors classified as socially responsible investors (SRIs)?About 43% of SAP’s institutional investors are classified as SRIs. Learn more in the\\xa0SAP Integrated Report.\\nIs SAP listed on any sustainability ratings and rankings?Yes, learn more about SAP\\'s sustainability awards and recognitions\\xa0here.\\xa0You can also access SAP’s ESG performance directly via the web sites of rating agencies such as:\\nSustainalytics: SAP scoring a low ESG risk ratingMSCI: AAA ratingRefinitiv (search for SAP SE): SAP scores 95/100CDP: SAP receives an A- in the climate change assessment 2022Corporate Sustainability Assessment by S&P: SAP #1 as one of two companies in the software industry (see the 2023 Sustainability Yearbook)Corporate Knights: SAP listed in the Global 100 ranking of the world’s most sustainable companies 2023\\n')]\n"
          ]
        }
      ]
    },
    {
      "cell_type": "code",
      "source": [
        "!pip install -q langchain_chroma"
      ],
      "metadata": {
        "collapsed": true,
        "colab": {
          "base_uri": "https://localhost:8080/"
        },
        "id": "mgxz_1BO2Iog",
        "outputId": "c2c718fa-d619-4ee8-dccd-ce42b1aed17d"
      },
      "id": "mgxz_1BO2Iog",
      "execution_count": 31,
      "outputs": [
        {
          "output_type": "stream",
          "name": "stdout",
          "text": [
            "\u001b[?25l     \u001b[90m━━━━━━━━━━━━━━━━━━━━━━━━━━━━━━━━━━━━━━━━\u001b[0m \u001b[32m0.0/67.3 kB\u001b[0m \u001b[31m?\u001b[0m eta \u001b[36m-:--:--\u001b[0m\r\u001b[2K     \u001b[90m━━━━━━━━━━━━━━━━━━━━━━━━━━━━━━━━━━━━━━━━\u001b[0m \u001b[32m67.3/67.3 kB\u001b[0m \u001b[31m4.7 MB/s\u001b[0m eta \u001b[36m0:00:00\u001b[0m\n",
            "\u001b[?25h  Installing build dependencies ... \u001b[?25l\u001b[?25hdone\n",
            "  Getting requirements to build wheel ... \u001b[?25l\u001b[?25hdone\n",
            "  Preparing metadata (pyproject.toml) ... \u001b[?25l\u001b[?25hdone\n",
            "\u001b[2K   \u001b[90m━━━━━━━━━━━━━━━━━━━━━━━━━━━━━━━━━━━━━━━━\u001b[0m \u001b[32m611.1/611.1 kB\u001b[0m \u001b[31m33.2 MB/s\u001b[0m eta \u001b[36m0:00:00\u001b[0m\n",
            "\u001b[2K   \u001b[90m━━━━━━━━━━━━━━━━━━━━━━━━━━━━━━━━━━━━━━━━\u001b[0m \u001b[32m2.4/2.4 MB\u001b[0m \u001b[31m82.7 MB/s\u001b[0m eta \u001b[36m0:00:00\u001b[0m\n",
            "\u001b[2K   \u001b[90m━━━━━━━━━━━━━━━━━━━━━━━━━━━━━━━━━━━━━━━━\u001b[0m \u001b[32m284.2/284.2 kB\u001b[0m \u001b[31m21.5 MB/s\u001b[0m eta \u001b[36m0:00:00\u001b[0m\n",
            "\u001b[2K   \u001b[90m━━━━━━━━━━━━━━━━━━━━━━━━━━━━━━━━━━━━━━━━\u001b[0m \u001b[32m95.2/95.2 kB\u001b[0m \u001b[31m7.5 MB/s\u001b[0m eta \u001b[36m0:00:00\u001b[0m\n",
            "\u001b[2K   \u001b[90m━━━━━━━━━━━━━━━━━━━━━━━━━━━━━━━━━━━━━━━━\u001b[0m \u001b[32m2.0/2.0 MB\u001b[0m \u001b[31m77.6 MB/s\u001b[0m eta \u001b[36m0:00:00\u001b[0m\n",
            "\u001b[2K   \u001b[90m━━━━━━━━━━━━━━━━━━━━━━━━━━━━━━━━━━━━━━━━\u001b[0m \u001b[32m101.6/101.6 kB\u001b[0m \u001b[31m7.9 MB/s\u001b[0m eta \u001b[36m0:00:00\u001b[0m\n",
            "\u001b[2K   \u001b[90m━━━━━━━━━━━━━━━━━━━━━━━━━━━━━━━━━━━━━━━━\u001b[0m \u001b[32m16.4/16.4 MB\u001b[0m \u001b[31m95.1 MB/s\u001b[0m eta \u001b[36m0:00:00\u001b[0m\n",
            "\u001b[2K   \u001b[90m━━━━━━━━━━━━━━━━━━━━━━━━━━━━━━━━━━━━━━━━\u001b[0m \u001b[32m55.9/55.9 kB\u001b[0m \u001b[31m3.7 MB/s\u001b[0m eta \u001b[36m0:00:00\u001b[0m\n",
            "\u001b[2K   \u001b[90m━━━━━━━━━━━━━━━━━━━━━━━━━━━━━━━━━━━━━━━━\u001b[0m \u001b[32m194.9/194.9 kB\u001b[0m \u001b[31m14.8 MB/s\u001b[0m eta \u001b[36m0:00:00\u001b[0m\n",
            "\u001b[2K   \u001b[90m━━━━━━━━━━━━━━━━━━━━━━━━━━━━━━━━━━━━━━━━\u001b[0m \u001b[32m65.8/65.8 kB\u001b[0m \u001b[31m4.7 MB/s\u001b[0m eta \u001b[36m0:00:00\u001b[0m\n",
            "\u001b[2K   \u001b[90m━━━━━━━━━━━━━━━━━━━━━━━━━━━━━━━━━━━━━━━━\u001b[0m \u001b[32m118.9/118.9 kB\u001b[0m \u001b[31m8.7 MB/s\u001b[0m eta \u001b[36m0:00:00\u001b[0m\n",
            "\u001b[2K   \u001b[90m━━━━━━━━━━━━━━━━━━━━━━━━━━━━━━━━━━━━━━━━\u001b[0m \u001b[32m92.0/92.0 kB\u001b[0m \u001b[31m7.2 MB/s\u001b[0m eta \u001b[36m0:00:00\u001b[0m\n",
            "\u001b[2K   \u001b[90m━━━━━━━━━━━━━━━━━━━━━━━━━━━━━━━━━━━━━━━━\u001b[0m \u001b[32m62.5/62.5 kB\u001b[0m \u001b[31m4.4 MB/s\u001b[0m eta \u001b[36m0:00:00\u001b[0m\n",
            "\u001b[2K   \u001b[90m━━━━━━━━━━━━━━━━━━━━━━━━━━━━━━━━━━━━━━━━\u001b[0m \u001b[32m459.8/459.8 kB\u001b[0m \u001b[31m30.2 MB/s\u001b[0m eta \u001b[36m0:00:00\u001b[0m\n",
            "\u001b[2K   \u001b[90m━━━━━━━━━━━━━━━━━━━━━━━━━━━━━━━━━━━━━━━━\u001b[0m \u001b[32m72.0/72.0 kB\u001b[0m \u001b[31m5.2 MB/s\u001b[0m eta \u001b[36m0:00:00\u001b[0m\n",
            "\u001b[2K   \u001b[90m━━━━━━━━━━━━━━━━━━━━━━━━━━━━━━━━━━━━━━━━\u001b[0m \u001b[32m4.0/4.0 MB\u001b[0m \u001b[31m89.3 MB/s\u001b[0m eta \u001b[36m0:00:00\u001b[0m\n",
            "\u001b[2K   \u001b[90m━━━━━━━━━━━━━━━━━━━━━━━━━━━━━━━━━━━━━━━━\u001b[0m \u001b[32m454.8/454.8 kB\u001b[0m \u001b[31m26.1 MB/s\u001b[0m eta \u001b[36m0:00:00\u001b[0m\n",
            "\u001b[2K   \u001b[90m━━━━━━━━━━━━━━━━━━━━━━━━━━━━━━━━━━━━━━━━\u001b[0m \u001b[32m46.0/46.0 kB\u001b[0m \u001b[31m3.3 MB/s\u001b[0m eta \u001b[36m0:00:00\u001b[0m\n",
            "\u001b[2K   \u001b[90m━━━━━━━━━━━━━━━━━━━━━━━━━━━━━━━━━━━━━━━━\u001b[0m \u001b[32m86.8/86.8 kB\u001b[0m \u001b[31m6.5 MB/s\u001b[0m eta \u001b[36m0:00:00\u001b[0m\n",
            "\u001b[?25h  Building wheel for pypika (pyproject.toml) ... \u001b[?25l\u001b[?25hdone\n"
          ]
        }
      ]
    },
    {
      "cell_type": "code",
      "source": [
        "# from langchain.vectorstores.chroma import Chroma"
      ],
      "metadata": {
        "id": "zYBNMR7A2wa5"
      },
      "id": "zYBNMR7A2wa5",
      "execution_count": 50,
      "outputs": []
    },
    {
      "cell_type": "markdown",
      "source": [
        "### Creating the embedding"
      ],
      "metadata": {
        "id": "tAGnbW6T3z-l"
      },
      "id": "tAGnbW6T3z-l"
    },
    {
      "cell_type": "code",
      "source": [
        "# Google EMbedding model is\n",
        "# models/text-embedding-004\n",
        "\n",
        "from google import genai\n",
        "\n",
        "client = genai.Client(api_key=userdata.get(\"GOOGLE_API_KEY\"))\n",
        "\n",
        "result = client.models.embed_content(\n",
        "        model=\"text-embedding-004\",\n",
        "        contents=\"docs\")\n"
      ],
      "metadata": {
        "colab": {
          "base_uri": "https://localhost:8080/"
        },
        "id": "VVn-9MQE2wuy",
        "outputId": "6727cf0d-ec55-475a-dce7-f1b627fdf68f"
      },
      "id": "VVn-9MQE2wuy",
      "execution_count": 41,
      "outputs": [
        {
          "output_type": "stream",
          "name": "stdout",
          "text": [
            "[ContentEmbedding(values=[0.056352835, -0.012802465, -0.04333053, -0.0062606214, 0.030048978, 0.021572424, 0.013492307, 0.03991041, 0.04568274, 0.032238908, -0.007996371, 0.060364235, 0.05384174, -0.008415636, -0.006721377, -0.03705883, 0.0008522501, 0.0089468, -0.058682784, -0.0035403266, 0.0024345098, -0.017475177, -0.059881948, -0.04279486, 0.037763897, -0.015532064, 0.06727401, 0.008493094, 0.0049022767, 0.0069087185, 0.0018617157, -0.0027591325, 0.021981413, -0.052339416, 0.026983641, -0.014949808, -0.03790051, 0.051977694, 0.048914775, -0.057983853, -0.0061779814, 0.035320774, -0.010377544, 0.009324791, 0.00076812477, 0.06585163, 0.0037922708, 0.025374575, -0.009712085, -0.011497512, 0.031240001, -2.4608615e-05, -0.024233906, -0.011671555, 0.03104733, -0.033371434, -0.053021085, -0.045064755, 0.06373168, 0.005851209, -0.016003685, 0.009296971, -0.010886275, 0.03319735, 0.01997865, 0.010300049, 0.021135475, -0.09178153, -0.041133057, 0.014314031, 0.013058472, 0.0032495563, -0.00805218, -0.008333427, -0.025089217, 0.0034961263, -0.0076554087, -0.06115709, -0.03794057, 0.034484863, -0.046807777, 0.0670256, 0.08469523, 0.040068544, -0.007206167, 0.019047882, 0.021698214, -0.065841384, -0.03987387, -0.022320205, 0.025294062, -0.048074123, -0.03604015, 0.016255712, 0.021042367, -0.044977937, -0.039998416, -0.052703883, 0.00841477, 0.061891884, 0.02133457, 0.05005321, 0.014193807, -0.09136807, 0.08923458, -0.0007316537, -0.03733558, 0.0021258176, -0.06993096, 0.023025889, 0.021623012, 0.042081777, -0.0008711484, -0.010154523, -0.01907644, -0.009735624, 0.002966762, -0.013917838, -0.02724237, 0.044185277, 0.048890132, 0.026743034, -0.00019355738, 0.07409015, 0.008173196, -0.012161948, 0.035958964, -0.066487804, -0.026090804, -0.0054850797, 0.08592494, -0.07953287, -0.0004208943, 0.0059787817, -0.02740039, -0.008710984, 0.07407391, 0.02667615, 0.0009854017, 0.046254717, -0.009808198, -0.03790735, -0.057717532, 0.08984095, -0.015904602, -0.020856667, -0.007815009, 0.042314712, -0.024290726, 0.03716125, 0.011717427, -0.008697506, -0.024707297, 0.022210935, -0.061102588, 0.004170556, 0.033198904, -0.04308936, 0.049853846, 0.021177022, 0.058859732, -0.030708512, 0.022497667, -0.0054266, -0.06909712, -0.032609176, -0.05030193, -0.033908118, -0.01314491, -0.004529182, 0.018575415, -0.049184553, 0.022477893, -0.027490592, 0.039674114, -0.05902292, 0.017439742, -0.023090325, -0.027374348, -0.07807782, 0.07531498, -0.021471893, -0.021805394, -0.026480932, -0.0219064, -0.014938955, -0.03688218, -0.008026619, -0.012306521, 0.0132659385, -0.05565213, 0.021946795, -0.014994026, 0.03062063, 0.0029334396, -0.006677071, 0.01300493, -0.042695038, 0.014666344, 0.052467395, 0.0066891313, -0.0012930341, 0.0023868226, -0.04462475, -0.01719115, 0.04033301, -0.015058245, -0.006873051, 0.04429639, -0.006075102, -0.024113955, -0.013046285, -0.0377488, -0.016256804, -0.029931791, 0.041658375, 0.058080103, 0.058018982, 0.017671961, -0.0037080045, -0.0195908, -0.049985047, 0.07864913, 0.008304718, 0.023442158, 0.011577974, -0.05787838, -0.031762313, -0.011185526, -0.061238524, 0.002469486, 0.0015914385, -0.046924237, 0.04642987, 0.05832259, 0.022456195, 0.05415287, -0.069666035, 0.057649992, 0.012120857, -0.023129633, 0.044084772, 0.03775824, 0.007924919, 0.03595031, -0.06565774, -0.030620782, 0.050025217, -0.0048995563, -0.0639863, 0.0038449718, 0.024589628, 0.013381387, -0.009561967, -0.04976663, 0.0029911373, 0.03182941, -0.01052662, -0.037272587, -0.030046035, 0.02812373, 0.0189883, -0.008857238, -0.057326514, 0.0035566648, -0.121594824, -0.018257126, -0.015336302, 0.030022683, -0.017006302, 0.010380908, 0.018120024, -0.026751485, 0.0062588146, -0.07494839, -0.005638009, -0.039034016, -0.007826681, 0.0071755755, -0.041050855, 0.08555285, 0.012079698, 0.07141331, -0.02173785, 0.039997436, -0.005983784, -0.018521398, 0.07901355, -0.035907775, 0.018294027, 0.028904308, -0.010461831, 0.02332212, -0.0121241575, 0.01054905, 0.00872447, 0.07555657, 0.033609312, 0.052930344, -0.013680437, 0.054507878, -0.0034573933, -0.041176964, 0.0350521, 0.0109221125, -0.017221905, -0.07792622, -0.040396795, -0.00127161, -0.03444677, -0.03705625, 0.014338685, -0.031305518, 0.009478315, -0.014843759, -0.027022704, -0.12999843, 0.005147504, -0.029384123, -0.02959444, 0.045115177, -0.0043225526, -0.066339456, 0.01193873, 0.014768885, -0.026219653, 0.024181854, -0.040801845, 0.00020496667, -0.012524062, 0.03358288, -0.005587535, 0.024709255, -0.030756937, 0.018806633, -0.0013709535, 0.013060151, 0.044033557, 0.03772611, 0.035062272, 0.013252231, -0.01684271, 0.035380915, 0.05045081, -0.051813066, -0.023124155, 0.010866585, 0.04085084, 0.018532755, -0.023450898, 0.0040969113, 0.018555403, 0.0073354836, 0.01890791, -0.00495997, 0.0025532134, -0.0030586328, -0.020004133, 0.004691406, -0.013082837, -0.0013933307, -0.018528486, 0.0035961624, 0.08445486, -0.010511866, -0.027089017, 0.0071683726, 0.0011100001, -0.058918394, -0.0010344655, 0.025998773, 0.04343887, 0.008827566, 0.006968009, 0.021565307, -0.02404927, -0.056976967, -0.015610742, 0.017382111, -0.0604364, 0.0029456443, 0.046214294, 0.030768499, -0.0177814, 0.017829634, 0.054237347, -0.030467754, 0.007880502, -0.0018717154, -0.022968695, -0.018805042, 0.032771487, -0.027730267, 0.09055225, -0.015859727, 0.02224509, -0.03905732, -0.0018142433, 0.004499973, 0.035386454, 0.01030083, -0.020457014, 0.0123866135, -0.059143767, -0.01491969, -0.023268295, 0.10371599, 0.046845924, 0.066322096, 0.006431282, -0.019460807, -0.024542749, 0.021010792, 0.04848128, -0.0028703078, 0.006597322, 0.09227621, -0.03966822, -0.016202047, -0.0091452645, -0.019026095, -0.043046016, 0.010131793, 0.00044090455, -0.0067465696, -0.027713468, 0.015879018, -0.05071106, 0.058108274, -0.035673186, -0.0049124034, 0.052811537, -0.05233898, -0.025917972, -0.03112417, 0.05066081, -0.0069515146, -0.017496018, -0.023050526, 0.0181523, 0.007095083, 0.037380856, 0.11698954, 0.036790274, -0.040850524, 0.06765791, -0.017284868, 0.00011699695, 0.003513129, -0.06362295, 0.05006111, -0.022373922, -0.02245535, -0.017623432, -0.059011217, 0.03530244, 0.060201928, 0.020827822, -0.021100096, -0.0005609402, -0.04049427, 0.004474268, 0.028819697, 0.013495252, -0.015006163, -0.012578523, -0.05989728, -0.0563496, 0.008564918, -0.0040923366, 0.048054527, -0.029781992, 0.03851535, 0.0048809377, -0.055316903, 0.008344762, -0.040098105, 0.049337335, 0.045871716, 0.0142829195, 0.06618561, 0.019735724, -0.018017922, 0.005133489, 0.034547683, -0.08525592, -0.025359528, 0.019429844, -0.025229676, -0.04006502, -0.017792406, -0.010356428, 0.008166984, 0.0011283457, -0.074768856, -0.045071594, 0.022308884, -0.036866702, 0.018906225, 0.025876347, 0.037061572, 0.0032226378, -0.044703566, -0.02603895, -0.048701588, -0.010701021, 0.04819671, -0.0074197343, 0.016065078, 0.050003756, 0.053985246, 0.014253323, 0.01466222, 0.018096115, -0.072501376, 0.014444162, -0.038193382, -0.026552364, -0.04631838, 0.0044920356, -0.04598203, -0.042760644, 0.035227794, 0.01643899, -0.016507428, -0.035611946, -0.05236338, 0.016522514, 0.028517481, 0.07888084, -0.030420508, 0.089975, 0.065646805, -0.0013838606, -0.0023844938, 0.044196848, 0.0454542, -0.00060042314, -0.01776911, -0.03001747, 0.016851317, -0.0049990867, 0.0019068192, -0.011940165, 0.056092996, -0.005599951, 0.028313948, -0.0051125055, 0.011526048, 0.0458859, 0.004639705, -0.059837535, 0.027766353, 0.01877635, -0.03462776, -0.056865513, -0.046729926, 0.011909587, 0.008805658, 0.023533573, 0.04548451, -0.06309485, -0.0064982483, -0.0316383, 0.03238258, 0.07119808, 0.013417876, 0.05471413, -0.0046808072, -0.038518764, 0.04593099, -0.018289499, 0.0017187942, -0.02331747, -0.020909742, -0.021782482, -0.003978472, 0.011092678, 0.022920845, -0.065131456, -0.018605862, 0.05563822, 0.068943895, -0.0042990395, -0.064717084, 0.028996428, -0.00016274818, -0.040615797, 0.010419048, -0.010741938, -0.05320988, 0.023475487, 0.0037495738, -0.031001989, 0.010292517, -0.012118, -0.016705366, -0.033030946, 0.0355078, 0.008164599, -0.0519716, -0.022842478, 0.07272358, -0.04967825, -0.02603337, -0.030965991, -0.044547055, 0.002218224, 0.008033333, 0.010952052, -0.033605855, 0.022112804, 0.017619949, -0.060299814, -0.04782005, 0.0080675995, -0.048413582, -0.028887274, 0.00034692662, 0.023847226, 0.017895008, 0.034324564, 0.015076614, -0.023245402, -0.029374572, -0.021989573, -0.029302329, 0.015966523, -0.0068978737, -0.003666306, -0.020839542, 0.028625801, 0.033189457, 0.0063105016, -0.022137498, 0.02897901, -0.026050761, 0.04152903, 0.017228797, -0.054147173, -0.024585653, 0.032657195, 0.057512432, 0.012545074, -0.03523471, 0.023016775, 0.030268451, -0.071065284, 0.02435461, 0.050895777, -0.011363669, 0.05512913, 0.00017571554, -0.0070853997, -0.0057131923, -0.06859741, -0.04159614, -0.009211908, 0.023276307, -0.04015883, -0.048533283, -0.06356506, -0.0403513, 0.020168958, -0.02158147, 0.021812275, -0.041527934, 0.021790927, -0.0013747138, -0.05503413, 0.017728994, 0.008414186, 0.009706623, 0.024425803, 0.026629189, -0.0062205414, 0.0004431822, 0.03979155, 0.05517543, 0.03490639, 0.02366646, -0.016435497, 0.034960747, -0.026209125, 0.023341725, -0.029149452, 0.0365893, -0.009735476, 0.016900092, 0.013281682, 0.075591505, -0.034707718, -0.03521255, 0.01563706, -0.021607962, 0.061139498, 0.014618849, 0.029062603, 0.016550755, -0.050226107, -0.022291254, 0.039065488, -0.030893607, -0.009796862, 0.040740903, 0.0535952, 0.0039514625, -0.010632059, -0.048718497, -0.0035870604, -0.030144082, 0.026097799, 0.04711667, 0.057987187, -0.000549406, -0.007159074, 0.021387193, 0.04850995, 0.025843386, 0.048991095, -0.038330458, -0.035634864, 0.063359834, 0.06275908, 0.045817383, 0.005042553, 0.011380719, -0.0033164707, -0.00091216725, 0.033195738, -0.0016529085, 0.020765228, -0.036704767, 0.030237254, 0.005310126, -0.04490141, 0.044207808, 0.0051009106, 0.0021600577, -0.010089045, 0.020002153, -0.02972734, -0.028422799, -0.015687656, 0.040448926, 0.031154316, 0.0021388214, 0.01784341, -0.01025851, -0.025049767, -0.05101994, 0.007135021, 0.016143484, -0.040657077, 0.013942866, -0.04440314, 0.030459214, -0.0103267105, -0.02445606, -0.007751211, 0.039973482, 0.03490099, -0.016639816, 0.07409052, -0.031465452, 0.016584057, 0.016615825, 0.07064489], statistics=None)]\n"
          ]
        }
      ]
    },
    {
      "cell_type": "markdown",
      "source": [
        "### Adding the embedding to Chroma VectorDB"
      ],
      "metadata": {
        "id": "CIMzb7_M5Gje"
      },
      "id": "CIMzb7_M5Gje"
    },
    {
      "cell_type": "code",
      "source": [],
      "metadata": {
        "id": "3YbKLO-O6vJF"
      },
      "id": "3YbKLO-O6vJF",
      "execution_count": null,
      "outputs": []
    },
    {
      "cell_type": "code",
      "source": [
        "\n",
        "# check python ver\n",
        "import sys\n",
        "print(sys.version)\n"
      ],
      "metadata": {
        "colab": {
          "base_uri": "https://localhost:8080/"
        },
        "id": "XT5lhtDM4tVo",
        "outputId": "1da0f7d7-2b93-4319-aa5f-b5030f31857e"
      },
      "id": "XT5lhtDM4tVo",
      "execution_count": 49,
      "outputs": [
        {
          "output_type": "stream",
          "name": "stdout",
          "text": [
            "3.11.12 (main, Apr  9 2025, 08:55:54) [GCC 11.4.0]\n"
          ]
        }
      ]
    },
    {
      "cell_type": "code",
      "source": [
        "!pip install chromadb"
      ],
      "metadata": {
        "collapsed": true,
        "colab": {
          "base_uri": "https://localhost:8080/"
        },
        "id": "t98ljWy_6B2g",
        "outputId": "564c71a0-f6d7-44c7-8161-0348370907e3"
      },
      "id": "t98ljWy_6B2g",
      "execution_count": 54,
      "outputs": [
        {
          "output_type": "stream",
          "name": "stdout",
          "text": [
            "Requirement already satisfied: chromadb in /usr/local/lib/python3.11/dist-packages (0.6.3)\n",
            "Requirement already satisfied: build>=1.0.3 in /usr/local/lib/python3.11/dist-packages (from chromadb) (1.2.2.post1)\n",
            "Requirement already satisfied: pydantic>=1.9 in /usr/local/lib/python3.11/dist-packages (from chromadb) (2.11.4)\n",
            "Requirement already satisfied: chroma-hnswlib==0.7.6 in /usr/local/lib/python3.11/dist-packages (from chromadb) (0.7.6)\n",
            "Requirement already satisfied: fastapi>=0.95.2 in /usr/local/lib/python3.11/dist-packages (from chromadb) (0.115.12)\n",
            "Requirement already satisfied: uvicorn>=0.18.3 in /usr/local/lib/python3.11/dist-packages (from uvicorn[standard]>=0.18.3->chromadb) (0.34.2)\n",
            "Requirement already satisfied: numpy>=1.22.5 in /usr/local/lib/python3.11/dist-packages (from chromadb) (2.0.2)\n",
            "Requirement already satisfied: posthog>=2.4.0 in /usr/local/lib/python3.11/dist-packages (from chromadb) (4.0.1)\n",
            "Requirement already satisfied: typing_extensions>=4.5.0 in /usr/local/lib/python3.11/dist-packages (from chromadb) (4.13.2)\n",
            "Requirement already satisfied: onnxruntime>=1.14.1 in /usr/local/lib/python3.11/dist-packages (from chromadb) (1.22.0)\n",
            "Requirement already satisfied: opentelemetry-api>=1.2.0 in /usr/local/lib/python3.11/dist-packages (from chromadb) (1.33.0)\n",
            "Requirement already satisfied: opentelemetry-exporter-otlp-proto-grpc>=1.2.0 in /usr/local/lib/python3.11/dist-packages (from chromadb) (1.33.0)\n",
            "Requirement already satisfied: opentelemetry-instrumentation-fastapi>=0.41b0 in /usr/local/lib/python3.11/dist-packages (from chromadb) (0.54b0)\n",
            "Requirement already satisfied: opentelemetry-sdk>=1.2.0 in /usr/local/lib/python3.11/dist-packages (from chromadb) (1.33.0)\n",
            "Requirement already satisfied: tokenizers>=0.13.2 in /usr/local/lib/python3.11/dist-packages (from chromadb) (0.21.1)\n",
            "Requirement already satisfied: pypika>=0.48.9 in /usr/local/lib/python3.11/dist-packages (from chromadb) (0.48.9)\n",
            "Requirement already satisfied: tqdm>=4.65.0 in /usr/local/lib/python3.11/dist-packages (from chromadb) (4.67.1)\n",
            "Requirement already satisfied: overrides>=7.3.1 in /usr/local/lib/python3.11/dist-packages (from chromadb) (7.7.0)\n",
            "Requirement already satisfied: importlib-resources in /usr/local/lib/python3.11/dist-packages (from chromadb) (6.5.2)\n",
            "Requirement already satisfied: grpcio>=1.58.0 in /usr/local/lib/python3.11/dist-packages (from chromadb) (1.71.0)\n",
            "Requirement already satisfied: bcrypt>=4.0.1 in /usr/local/lib/python3.11/dist-packages (from chromadb) (4.3.0)\n",
            "Requirement already satisfied: typer>=0.9.0 in /usr/local/lib/python3.11/dist-packages (from chromadb) (0.15.3)\n",
            "Requirement already satisfied: kubernetes>=28.1.0 in /usr/local/lib/python3.11/dist-packages (from chromadb) (32.0.1)\n",
            "Requirement already satisfied: tenacity>=8.2.3 in /usr/local/lib/python3.11/dist-packages (from chromadb) (9.1.2)\n",
            "Requirement already satisfied: PyYAML>=6.0.0 in /usr/local/lib/python3.11/dist-packages (from chromadb) (6.0.2)\n",
            "Requirement already satisfied: mmh3>=4.0.1 in /usr/local/lib/python3.11/dist-packages (from chromadb) (5.1.0)\n",
            "Requirement already satisfied: orjson>=3.9.12 in /usr/local/lib/python3.11/dist-packages (from chromadb) (3.10.18)\n",
            "Requirement already satisfied: httpx>=0.27.0 in /usr/local/lib/python3.11/dist-packages (from chromadb) (0.28.1)\n",
            "Requirement already satisfied: rich>=10.11.0 in /usr/local/lib/python3.11/dist-packages (from chromadb) (13.9.4)\n",
            "Requirement already satisfied: packaging>=19.1 in /usr/local/lib/python3.11/dist-packages (from build>=1.0.3->chromadb) (24.2)\n",
            "Requirement already satisfied: pyproject_hooks in /usr/local/lib/python3.11/dist-packages (from build>=1.0.3->chromadb) (1.2.0)\n",
            "Requirement already satisfied: starlette<0.47.0,>=0.40.0 in /usr/local/lib/python3.11/dist-packages (from fastapi>=0.95.2->chromadb) (0.46.2)\n",
            "Requirement already satisfied: anyio in /usr/local/lib/python3.11/dist-packages (from httpx>=0.27.0->chromadb) (4.9.0)\n",
            "Requirement already satisfied: certifi in /usr/local/lib/python3.11/dist-packages (from httpx>=0.27.0->chromadb) (2025.4.26)\n",
            "Requirement already satisfied: httpcore==1.* in /usr/local/lib/python3.11/dist-packages (from httpx>=0.27.0->chromadb) (1.0.9)\n",
            "Requirement already satisfied: idna in /usr/local/lib/python3.11/dist-packages (from httpx>=0.27.0->chromadb) (3.10)\n",
            "Requirement already satisfied: h11>=0.16 in /usr/local/lib/python3.11/dist-packages (from httpcore==1.*->httpx>=0.27.0->chromadb) (0.16.0)\n",
            "Requirement already satisfied: six>=1.9.0 in /usr/local/lib/python3.11/dist-packages (from kubernetes>=28.1.0->chromadb) (1.17.0)\n",
            "Requirement already satisfied: python-dateutil>=2.5.3 in /usr/local/lib/python3.11/dist-packages (from kubernetes>=28.1.0->chromadb) (2.9.0.post0)\n",
            "Requirement already satisfied: google-auth>=1.0.1 in /usr/local/lib/python3.11/dist-packages (from kubernetes>=28.1.0->chromadb) (2.38.0)\n",
            "Requirement already satisfied: websocket-client!=0.40.0,!=0.41.*,!=0.42.*,>=0.32.0 in /usr/local/lib/python3.11/dist-packages (from kubernetes>=28.1.0->chromadb) (1.8.0)\n",
            "Requirement already satisfied: requests in /usr/local/lib/python3.11/dist-packages (from kubernetes>=28.1.0->chromadb) (2.32.3)\n",
            "Requirement already satisfied: requests-oauthlib in /usr/local/lib/python3.11/dist-packages (from kubernetes>=28.1.0->chromadb) (2.0.0)\n",
            "Requirement already satisfied: oauthlib>=3.2.2 in /usr/local/lib/python3.11/dist-packages (from kubernetes>=28.1.0->chromadb) (3.2.2)\n",
            "Requirement already satisfied: urllib3>=1.24.2 in /usr/local/lib/python3.11/dist-packages (from kubernetes>=28.1.0->chromadb) (2.4.0)\n",
            "Requirement already satisfied: durationpy>=0.7 in /usr/local/lib/python3.11/dist-packages (from kubernetes>=28.1.0->chromadb) (0.9)\n",
            "Requirement already satisfied: coloredlogs in /usr/local/lib/python3.11/dist-packages (from onnxruntime>=1.14.1->chromadb) (15.0.1)\n",
            "Requirement already satisfied: flatbuffers in /usr/local/lib/python3.11/dist-packages (from onnxruntime>=1.14.1->chromadb) (25.2.10)\n",
            "Requirement already satisfied: protobuf in /usr/local/lib/python3.11/dist-packages (from onnxruntime>=1.14.1->chromadb) (5.29.4)\n",
            "Requirement already satisfied: sympy in /usr/local/lib/python3.11/dist-packages (from onnxruntime>=1.14.1->chromadb) (1.13.1)\n",
            "Requirement already satisfied: deprecated>=1.2.6 in /usr/local/lib/python3.11/dist-packages (from opentelemetry-api>=1.2.0->chromadb) (1.2.18)\n",
            "Requirement already satisfied: importlib-metadata<8.7.0,>=6.0 in /usr/local/lib/python3.11/dist-packages (from opentelemetry-api>=1.2.0->chromadb) (8.6.1)\n",
            "Requirement already satisfied: googleapis-common-protos~=1.52 in /usr/local/lib/python3.11/dist-packages (from opentelemetry-exporter-otlp-proto-grpc>=1.2.0->chromadb) (1.70.0)\n",
            "Requirement already satisfied: opentelemetry-exporter-otlp-proto-common==1.33.0 in /usr/local/lib/python3.11/dist-packages (from opentelemetry-exporter-otlp-proto-grpc>=1.2.0->chromadb) (1.33.0)\n",
            "Requirement already satisfied: opentelemetry-proto==1.33.0 in /usr/local/lib/python3.11/dist-packages (from opentelemetry-exporter-otlp-proto-grpc>=1.2.0->chromadb) (1.33.0)\n",
            "Requirement already satisfied: opentelemetry-instrumentation-asgi==0.54b0 in /usr/local/lib/python3.11/dist-packages (from opentelemetry-instrumentation-fastapi>=0.41b0->chromadb) (0.54b0)\n",
            "Requirement already satisfied: opentelemetry-instrumentation==0.54b0 in /usr/local/lib/python3.11/dist-packages (from opentelemetry-instrumentation-fastapi>=0.41b0->chromadb) (0.54b0)\n",
            "Requirement already satisfied: opentelemetry-semantic-conventions==0.54b0 in /usr/local/lib/python3.11/dist-packages (from opentelemetry-instrumentation-fastapi>=0.41b0->chromadb) (0.54b0)\n",
            "Requirement already satisfied: opentelemetry-util-http==0.54b0 in /usr/local/lib/python3.11/dist-packages (from opentelemetry-instrumentation-fastapi>=0.41b0->chromadb) (0.54b0)\n",
            "Requirement already satisfied: wrapt<2.0.0,>=1.0.0 in /usr/local/lib/python3.11/dist-packages (from opentelemetry-instrumentation==0.54b0->opentelemetry-instrumentation-fastapi>=0.41b0->chromadb) (1.17.2)\n",
            "Requirement already satisfied: asgiref~=3.0 in /usr/local/lib/python3.11/dist-packages (from opentelemetry-instrumentation-asgi==0.54b0->opentelemetry-instrumentation-fastapi>=0.41b0->chromadb) (3.8.1)\n",
            "Requirement already satisfied: backoff>=1.10.0 in /usr/local/lib/python3.11/dist-packages (from posthog>=2.4.0->chromadb) (2.2.1)\n",
            "Requirement already satisfied: distro>=1.5.0 in /usr/local/lib/python3.11/dist-packages (from posthog>=2.4.0->chromadb) (1.9.0)\n",
            "Requirement already satisfied: annotated-types>=0.6.0 in /usr/local/lib/python3.11/dist-packages (from pydantic>=1.9->chromadb) (0.7.0)\n",
            "Requirement already satisfied: pydantic-core==2.33.2 in /usr/local/lib/python3.11/dist-packages (from pydantic>=1.9->chromadb) (2.33.2)\n",
            "Requirement already satisfied: typing-inspection>=0.4.0 in /usr/local/lib/python3.11/dist-packages (from pydantic>=1.9->chromadb) (0.4.0)\n",
            "Requirement already satisfied: markdown-it-py>=2.2.0 in /usr/local/lib/python3.11/dist-packages (from rich>=10.11.0->chromadb) (3.0.0)\n",
            "Requirement already satisfied: pygments<3.0.0,>=2.13.0 in /usr/local/lib/python3.11/dist-packages (from rich>=10.11.0->chromadb) (2.19.1)\n",
            "Requirement already satisfied: huggingface-hub<1.0,>=0.16.4 in /usr/local/lib/python3.11/dist-packages (from tokenizers>=0.13.2->chromadb) (0.31.2)\n",
            "Requirement already satisfied: click>=8.0.0 in /usr/local/lib/python3.11/dist-packages (from typer>=0.9.0->chromadb) (8.1.8)\n",
            "Requirement already satisfied: shellingham>=1.3.0 in /usr/local/lib/python3.11/dist-packages (from typer>=0.9.0->chromadb) (1.5.4)\n",
            "Requirement already satisfied: httptools>=0.6.3 in /usr/local/lib/python3.11/dist-packages (from uvicorn[standard]>=0.18.3->chromadb) (0.6.4)\n",
            "Requirement already satisfied: python-dotenv>=0.13 in /usr/local/lib/python3.11/dist-packages (from uvicorn[standard]>=0.18.3->chromadb) (1.1.0)\n",
            "Requirement already satisfied: uvloop!=0.15.0,!=0.15.1,>=0.14.0 in /usr/local/lib/python3.11/dist-packages (from uvicorn[standard]>=0.18.3->chromadb) (0.21.0)\n",
            "Requirement already satisfied: watchfiles>=0.13 in /usr/local/lib/python3.11/dist-packages (from uvicorn[standard]>=0.18.3->chromadb) (1.0.5)\n",
            "Requirement already satisfied: websockets>=10.4 in /usr/local/lib/python3.11/dist-packages (from uvicorn[standard]>=0.18.3->chromadb) (15.0.1)\n",
            "Requirement already satisfied: cachetools<6.0,>=2.0.0 in /usr/local/lib/python3.11/dist-packages (from google-auth>=1.0.1->kubernetes>=28.1.0->chromadb) (5.5.2)\n",
            "Requirement already satisfied: pyasn1-modules>=0.2.1 in /usr/local/lib/python3.11/dist-packages (from google-auth>=1.0.1->kubernetes>=28.1.0->chromadb) (0.4.2)\n",
            "Requirement already satisfied: rsa<5,>=3.1.4 in /usr/local/lib/python3.11/dist-packages (from google-auth>=1.0.1->kubernetes>=28.1.0->chromadb) (4.9.1)\n",
            "Requirement already satisfied: filelock in /usr/local/lib/python3.11/dist-packages (from huggingface-hub<1.0,>=0.16.4->tokenizers>=0.13.2->chromadb) (3.18.0)\n",
            "Requirement already satisfied: fsspec>=2023.5.0 in /usr/local/lib/python3.11/dist-packages (from huggingface-hub<1.0,>=0.16.4->tokenizers>=0.13.2->chromadb) (2025.3.2)\n",
            "Requirement already satisfied: zipp>=3.20 in /usr/local/lib/python3.11/dist-packages (from importlib-metadata<8.7.0,>=6.0->opentelemetry-api>=1.2.0->chromadb) (3.21.0)\n",
            "Requirement already satisfied: mdurl~=0.1 in /usr/local/lib/python3.11/dist-packages (from markdown-it-py>=2.2.0->rich>=10.11.0->chromadb) (0.1.2)\n",
            "Requirement already satisfied: charset-normalizer<4,>=2 in /usr/local/lib/python3.11/dist-packages (from requests->kubernetes>=28.1.0->chromadb) (3.4.2)\n",
            "Requirement already satisfied: sniffio>=1.1 in /usr/local/lib/python3.11/dist-packages (from anyio->httpx>=0.27.0->chromadb) (1.3.1)\n",
            "Requirement already satisfied: humanfriendly>=9.1 in /usr/local/lib/python3.11/dist-packages (from coloredlogs->onnxruntime>=1.14.1->chromadb) (10.0)\n",
            "Requirement already satisfied: mpmath<1.4,>=1.1.0 in /usr/local/lib/python3.11/dist-packages (from sympy->onnxruntime>=1.14.1->chromadb) (1.3.0)\n",
            "Requirement already satisfied: pyasn1<0.7.0,>=0.6.1 in /usr/local/lib/python3.11/dist-packages (from pyasn1-modules>=0.2.1->google-auth>=1.0.1->kubernetes>=28.1.0->chromadb) (0.6.1)\n"
          ]
        }
      ]
    },
    {
      "cell_type": "code",
      "source": [
        "vector_db = Chroma.from_documents(documents=docs, embedding=result)"
      ],
      "metadata": {
        "colab": {
          "base_uri": "https://localhost:8080/",
          "height": 633
        },
        "id": "wYlL9h8N7O9M",
        "outputId": "8c0ad237-7fd8-448c-e9bf-16954b04e73a"
      },
      "id": "wYlL9h8N7O9M",
      "execution_count": 55,
      "outputs": [
        {
          "output_type": "error",
          "ename": "ImportError",
          "evalue": "Could not import chromadb python package. Please install it with `pip install chromadb`.",
          "traceback": [
            "\u001b[0;31m---------------------------------------------------------------------------\u001b[0m",
            "\u001b[0;31mImportError\u001b[0m                               Traceback (most recent call last)",
            "\u001b[0;32m/usr/local/lib/python3.11/dist-packages/langchain_community/vectorstores/chroma.py\u001b[0m in \u001b[0;36m__init__\u001b[0;34m(self, collection_name, embedding_function, persist_directory, client_settings, collection_metadata, client, relevance_score_fn)\u001b[0m\n\u001b[1;32m     82\u001b[0m         \u001b[0;32mtry\u001b[0m\u001b[0;34m:\u001b[0m\u001b[0;34m\u001b[0m\u001b[0;34m\u001b[0m\u001b[0m\n\u001b[0;32m---> 83\u001b[0;31m             \u001b[0;32mimport\u001b[0m \u001b[0mchromadb\u001b[0m\u001b[0;34m\u001b[0m\u001b[0;34m\u001b[0m\u001b[0m\n\u001b[0m\u001b[1;32m     84\u001b[0m             \u001b[0;32mimport\u001b[0m \u001b[0mchromadb\u001b[0m\u001b[0;34m.\u001b[0m\u001b[0mconfig\u001b[0m\u001b[0;34m\u001b[0m\u001b[0;34m\u001b[0m\u001b[0m\n",
            "\u001b[0;32m/usr/local/lib/python3.11/dist-packages/chromadb/__init__.py\u001b[0m in \u001b[0;36m<module>\u001b[0;34m\u001b[0m\n\u001b[1;32m      5\u001b[0m \u001b[0;32mfrom\u001b[0m \u001b[0mchromadb\u001b[0m\u001b[0;34m.\u001b[0m\u001b[0mapi\u001b[0m\u001b[0;34m.\u001b[0m\u001b[0masync_client\u001b[0m \u001b[0;32mimport\u001b[0m \u001b[0mAsyncClient\u001b[0m \u001b[0;32mas\u001b[0m \u001b[0mAsyncClientCreator\u001b[0m\u001b[0;34m\u001b[0m\u001b[0;34m\u001b[0m\u001b[0m\n\u001b[0;32m----> 6\u001b[0;31m \u001b[0;32mfrom\u001b[0m \u001b[0mchromadb\u001b[0m\u001b[0;34m.\u001b[0m\u001b[0mauth\u001b[0m\u001b[0;34m.\u001b[0m\u001b[0mtoken_authn\u001b[0m \u001b[0;32mimport\u001b[0m \u001b[0mTokenTransportHeader\u001b[0m\u001b[0;34m\u001b[0m\u001b[0;34m\u001b[0m\u001b[0m\n\u001b[0m\u001b[1;32m      7\u001b[0m \u001b[0;32mimport\u001b[0m \u001b[0mchromadb\u001b[0m\u001b[0;34m.\u001b[0m\u001b[0mconfig\u001b[0m\u001b[0;34m\u001b[0m\u001b[0;34m\u001b[0m\u001b[0m\n",
            "\u001b[0;32m/usr/local/lib/python3.11/dist-packages/chromadb/auth/token_authn/__init__.py\u001b[0m in \u001b[0;36m<module>\u001b[0;34m\u001b[0m\n\u001b[1;32m     23\u001b[0m \u001b[0;32mfrom\u001b[0m \u001b[0mchromadb\u001b[0m\u001b[0;34m.\u001b[0m\u001b[0merrors\u001b[0m \u001b[0;32mimport\u001b[0m \u001b[0mChromaAuthError\u001b[0m\u001b[0;34m\u001b[0m\u001b[0;34m\u001b[0m\u001b[0m\n\u001b[0;32m---> 24\u001b[0;31m from chromadb.telemetry.opentelemetry import (\n\u001b[0m\u001b[1;32m     25\u001b[0m     \u001b[0mOpenTelemetryGranularity\u001b[0m\u001b[0;34m,\u001b[0m\u001b[0;34m\u001b[0m\u001b[0;34m\u001b[0m\u001b[0m\n",
            "\u001b[0;32m/usr/local/lib/python3.11/dist-packages/chromadb/telemetry/opentelemetry/__init__.py\u001b[0m in \u001b[0;36m<module>\u001b[0;34m\u001b[0m\n\u001b[1;32m     12\u001b[0m )\n\u001b[0;32m---> 13\u001b[0;31m \u001b[0;32mfrom\u001b[0m \u001b[0mopentelemetry\u001b[0m\u001b[0;34m.\u001b[0m\u001b[0mexporter\u001b[0m\u001b[0;34m.\u001b[0m\u001b[0motlp\u001b[0m\u001b[0;34m.\u001b[0m\u001b[0mproto\u001b[0m\u001b[0;34m.\u001b[0m\u001b[0mgrpc\u001b[0m\u001b[0;34m.\u001b[0m\u001b[0mtrace_exporter\u001b[0m \u001b[0;32mimport\u001b[0m \u001b[0mOTLPSpanExporter\u001b[0m\u001b[0;34m\u001b[0m\u001b[0;34m\u001b[0m\u001b[0m\n\u001b[0m\u001b[1;32m     14\u001b[0m \u001b[0;34m\u001b[0m\u001b[0m\n",
            "\u001b[0;32m/usr/local/lib/python3.11/dist-packages/opentelemetry/exporter/otlp/proto/grpc/trace_exporter/__init__.py\u001b[0m in \u001b[0;36m<module>\u001b[0;34m\u001b[0m\n\u001b[1;32m     21\u001b[0m \u001b[0;32mfrom\u001b[0m \u001b[0mgrpc\u001b[0m \u001b[0;32mimport\u001b[0m \u001b[0mChannelCredentials\u001b[0m\u001b[0;34m,\u001b[0m \u001b[0mCompression\u001b[0m\u001b[0;34m\u001b[0m\u001b[0;34m\u001b[0m\u001b[0m\n\u001b[0;32m---> 22\u001b[0;31m from opentelemetry.exporter.otlp.proto.common.trace_encoder import (\n\u001b[0m\u001b[1;32m     23\u001b[0m     \u001b[0mencode_spans\u001b[0m\u001b[0;34m,\u001b[0m\u001b[0;34m\u001b[0m\u001b[0;34m\u001b[0m\u001b[0m\n",
            "\u001b[0;32m/usr/local/lib/python3.11/dist-packages/opentelemetry/exporter/otlp/proto/common/trace_encoder.py\u001b[0m in \u001b[0;36m<module>\u001b[0;34m\u001b[0m\n\u001b[1;32m     15\u001b[0m \u001b[0;34m\u001b[0m\u001b[0m\n\u001b[0;32m---> 16\u001b[0;31m from opentelemetry.exporter.otlp.proto.common._internal.trace_encoder import (\n\u001b[0m\u001b[1;32m     17\u001b[0m     \u001b[0mencode_spans\u001b[0m\u001b[0;34m,\u001b[0m\u001b[0;34m\u001b[0m\u001b[0;34m\u001b[0m\u001b[0m\n",
            "\u001b[0;32m/usr/local/lib/python3.11/dist-packages/opentelemetry/exporter/otlp/proto/common/_internal/__init__.py\u001b[0m in \u001b[0;36m<module>\u001b[0;34m\u001b[0m\n\u001b[1;32m     47\u001b[0m \u001b[0;32mfrom\u001b[0m \u001b[0mopentelemetry\u001b[0m\u001b[0;34m.\u001b[0m\u001b[0msdk\u001b[0m\u001b[0;34m.\u001b[0m\u001b[0mutil\u001b[0m\u001b[0;34m.\u001b[0m\u001b[0minstrumentation\u001b[0m \u001b[0;32mimport\u001b[0m \u001b[0mInstrumentationScope\u001b[0m\u001b[0;34m\u001b[0m\u001b[0;34m\u001b[0m\u001b[0m\n\u001b[0;32m---> 48\u001b[0;31m \u001b[0;32mfrom\u001b[0m \u001b[0mopentelemetry\u001b[0m\u001b[0;34m.\u001b[0m\u001b[0mutil\u001b[0m\u001b[0;34m.\u001b[0m\u001b[0mtypes\u001b[0m \u001b[0;32mimport\u001b[0m \u001b[0m_ExtendedAttributes\u001b[0m\u001b[0;34m\u001b[0m\u001b[0;34m\u001b[0m\u001b[0m\n\u001b[0m\u001b[1;32m     49\u001b[0m \u001b[0;34m\u001b[0m\u001b[0m\n",
            "\u001b[0;31mImportError\u001b[0m: cannot import name '_ExtendedAttributes' from 'opentelemetry.util.types' (/usr/local/lib/python3.11/dist-packages/opentelemetry/util/types.py)",
            "\nDuring handling of the above exception, another exception occurred:\n",
            "\u001b[0;31mImportError\u001b[0m                               Traceback (most recent call last)",
            "\u001b[0;32m<ipython-input-55-4839f6be10bb>\u001b[0m in \u001b[0;36m<cell line: 0>\u001b[0;34m()\u001b[0m\n\u001b[0;32m----> 1\u001b[0;31m \u001b[0mvector_db\u001b[0m \u001b[0;34m=\u001b[0m \u001b[0mChroma\u001b[0m\u001b[0;34m.\u001b[0m\u001b[0mfrom_documents\u001b[0m\u001b[0;34m(\u001b[0m\u001b[0mdocuments\u001b[0m\u001b[0;34m=\u001b[0m\u001b[0mdocs\u001b[0m\u001b[0;34m,\u001b[0m \u001b[0membedding\u001b[0m\u001b[0;34m=\u001b[0m\u001b[0mresult\u001b[0m\u001b[0;34m)\u001b[0m\u001b[0;34m\u001b[0m\u001b[0;34m\u001b[0m\u001b[0m\n\u001b[0m",
            "\u001b[0;32m/usr/local/lib/python3.11/dist-packages/langchain_community/vectorstores/chroma.py\u001b[0m in \u001b[0;36mfrom_documents\u001b[0;34m(cls, documents, embedding, ids, collection_name, persist_directory, client_settings, client, collection_metadata, **kwargs)\u001b[0m\n\u001b[1;32m    885\u001b[0m         \u001b[0mtexts\u001b[0m \u001b[0;34m=\u001b[0m \u001b[0;34m[\u001b[0m\u001b[0mdoc\u001b[0m\u001b[0;34m.\u001b[0m\u001b[0mpage_content\u001b[0m \u001b[0;32mfor\u001b[0m \u001b[0mdoc\u001b[0m \u001b[0;32min\u001b[0m \u001b[0mdocuments\u001b[0m\u001b[0;34m]\u001b[0m\u001b[0;34m\u001b[0m\u001b[0;34m\u001b[0m\u001b[0m\n\u001b[1;32m    886\u001b[0m         \u001b[0mmetadatas\u001b[0m \u001b[0;34m=\u001b[0m \u001b[0;34m[\u001b[0m\u001b[0mdoc\u001b[0m\u001b[0;34m.\u001b[0m\u001b[0mmetadata\u001b[0m \u001b[0;32mfor\u001b[0m \u001b[0mdoc\u001b[0m \u001b[0;32min\u001b[0m \u001b[0mdocuments\u001b[0m\u001b[0;34m]\u001b[0m\u001b[0;34m\u001b[0m\u001b[0;34m\u001b[0m\u001b[0m\n\u001b[0;32m--> 887\u001b[0;31m         return cls.from_texts(\n\u001b[0m\u001b[1;32m    888\u001b[0m             \u001b[0mtexts\u001b[0m\u001b[0;34m=\u001b[0m\u001b[0mtexts\u001b[0m\u001b[0;34m,\u001b[0m\u001b[0;34m\u001b[0m\u001b[0;34m\u001b[0m\u001b[0m\n\u001b[1;32m    889\u001b[0m             \u001b[0membedding\u001b[0m\u001b[0;34m=\u001b[0m\u001b[0membedding\u001b[0m\u001b[0;34m,\u001b[0m\u001b[0;34m\u001b[0m\u001b[0;34m\u001b[0m\u001b[0m\n",
            "\u001b[0;32m/usr/local/lib/python3.11/dist-packages/langchain_community/vectorstores/chroma.py\u001b[0m in \u001b[0;36mfrom_texts\u001b[0;34m(cls, texts, embedding, metadatas, ids, collection_name, persist_directory, client_settings, client, collection_metadata, **kwargs)\u001b[0m\n\u001b[1;32m    815\u001b[0m             \u001b[0mChroma\u001b[0m\u001b[0;34m:\u001b[0m \u001b[0mChroma\u001b[0m \u001b[0mvectorstore\u001b[0m\u001b[0;34m.\u001b[0m\u001b[0;34m\u001b[0m\u001b[0;34m\u001b[0m\u001b[0m\n\u001b[1;32m    816\u001b[0m         \"\"\"\n\u001b[0;32m--> 817\u001b[0;31m         chroma_collection = cls(\n\u001b[0m\u001b[1;32m    818\u001b[0m             \u001b[0mcollection_name\u001b[0m\u001b[0;34m=\u001b[0m\u001b[0mcollection_name\u001b[0m\u001b[0;34m,\u001b[0m\u001b[0;34m\u001b[0m\u001b[0;34m\u001b[0m\u001b[0m\n\u001b[1;32m    819\u001b[0m             \u001b[0membedding_function\u001b[0m\u001b[0;34m=\u001b[0m\u001b[0membedding\u001b[0m\u001b[0;34m,\u001b[0m\u001b[0;34m\u001b[0m\u001b[0;34m\u001b[0m\u001b[0m\n",
            "\u001b[0;32m/usr/local/lib/python3.11/dist-packages/langchain_core/_api/deprecation.py\u001b[0m in \u001b[0;36mwarn_if_direct_instance\u001b[0;34m(self, *args, **kwargs)\u001b[0m\n\u001b[1;32m    222\u001b[0m                         \u001b[0mwarned\u001b[0m \u001b[0;34m=\u001b[0m \u001b[0;32mTrue\u001b[0m\u001b[0;34m\u001b[0m\u001b[0;34m\u001b[0m\u001b[0m\n\u001b[1;32m    223\u001b[0m                         \u001b[0memit_warning\u001b[0m\u001b[0;34m(\u001b[0m\u001b[0;34m)\u001b[0m\u001b[0;34m\u001b[0m\u001b[0;34m\u001b[0m\u001b[0m\n\u001b[0;32m--> 224\u001b[0;31m                     \u001b[0;32mreturn\u001b[0m \u001b[0mwrapped\u001b[0m\u001b[0;34m(\u001b[0m\u001b[0mself\u001b[0m\u001b[0;34m,\u001b[0m \u001b[0;34m*\u001b[0m\u001b[0margs\u001b[0m\u001b[0;34m,\u001b[0m \u001b[0;34m**\u001b[0m\u001b[0mkwargs\u001b[0m\u001b[0;34m)\u001b[0m\u001b[0;34m\u001b[0m\u001b[0;34m\u001b[0m\u001b[0m\n\u001b[0m\u001b[1;32m    225\u001b[0m \u001b[0;34m\u001b[0m\u001b[0m\n\u001b[1;32m    226\u001b[0m                 obj.__init__ = functools.wraps(obj.__init__)(  # type: ignore[misc]\n",
            "\u001b[0;32m/usr/local/lib/python3.11/dist-packages/langchain_community/vectorstores/chroma.py\u001b[0m in \u001b[0;36m__init__\u001b[0;34m(self, collection_name, embedding_function, persist_directory, client_settings, collection_metadata, client, relevance_score_fn)\u001b[0m\n\u001b[1;32m     84\u001b[0m             \u001b[0;32mimport\u001b[0m \u001b[0mchromadb\u001b[0m\u001b[0;34m.\u001b[0m\u001b[0mconfig\u001b[0m\u001b[0;34m\u001b[0m\u001b[0;34m\u001b[0m\u001b[0m\n\u001b[1;32m     85\u001b[0m         \u001b[0;32mexcept\u001b[0m \u001b[0mImportError\u001b[0m\u001b[0;34m:\u001b[0m\u001b[0;34m\u001b[0m\u001b[0;34m\u001b[0m\u001b[0m\n\u001b[0;32m---> 86\u001b[0;31m             raise ImportError(\n\u001b[0m\u001b[1;32m     87\u001b[0m                 \u001b[0;34m\"Could not import chromadb python package. \"\u001b[0m\u001b[0;34m\u001b[0m\u001b[0;34m\u001b[0m\u001b[0m\n\u001b[1;32m     88\u001b[0m                 \u001b[0;34m\"Please install it with `pip install chromadb`.\"\u001b[0m\u001b[0;34m\u001b[0m\u001b[0;34m\u001b[0m\u001b[0m\n",
            "\u001b[0;31mImportError\u001b[0m: Could not import chromadb python package. Please install it with `pip install chromadb`.",
            "",
            "\u001b[0;31m---------------------------------------------------------------------------\u001b[0;32m\nNOTE: If your import is failing due to a missing package, you can\nmanually install dependencies using either !pip or !apt.\n\nTo view examples of installing some common dependencies, click the\n\"Open Examples\" button below.\n\u001b[0;31m---------------------------------------------------------------------------\u001b[0m\n"
          ],
          "errorDetails": {
            "actions": [
              {
                "action": "open_url",
                "actionText": "Open Examples",
                "url": "/notebooks/snippets/importing_libraries.ipynb"
              }
            ]
          }
        }
      ]
    },
    {
      "cell_type": "code",
      "source": [
        "# Switching python ver to 3.9 as chroma is not supported on 3.11\n",
        "# !sudo apt-get install python3.9"
      ],
      "metadata": {
        "collapsed": true,
        "colab": {
          "base_uri": "https://localhost:8080/"
        },
        "id": "I1tqcoae7ld_",
        "outputId": "d0e5a5b9-b294-4969-a8af-328bcadc519d"
      },
      "id": "I1tqcoae7ld_",
      "execution_count": 57,
      "outputs": [
        {
          "output_type": "stream",
          "name": "stdout",
          "text": [
            "Reading package lists... Done\n",
            "Building dependency tree... Done\n",
            "Reading state information... Done\n",
            "The following additional packages will be installed:\n",
            "  libpython3.9-minimal libpython3.9-stdlib python3.9-minimal\n",
            "Suggested packages:\n",
            "  python3.9-venv binfmt-support\n",
            "The following NEW packages will be installed:\n",
            "  libpython3.9-minimal libpython3.9-stdlib python3.9 python3.9-minimal\n",
            "0 upgraded, 4 newly installed, 0 to remove and 34 not upgraded.\n",
            "Need to get 4,846 kB of archives.\n",
            "After this operation, 18.9 MB of additional disk space will be used.\n",
            "Get:1 https://ppa.launchpadcontent.net/deadsnakes/ppa/ubuntu jammy/main amd64 libpython3.9-minimal amd64 3.9.22-1+jammy1 [837 kB]\n",
            "Get:2 https://ppa.launchpadcontent.net/deadsnakes/ppa/ubuntu jammy/main amd64 python3.9-minimal amd64 3.9.22-1+jammy1 [2,072 kB]\n",
            "Get:3 https://ppa.launchpadcontent.net/deadsnakes/ppa/ubuntu jammy/main amd64 libpython3.9-stdlib amd64 3.9.22-1+jammy1 [1,844 kB]\n",
            "Get:4 https://ppa.launchpadcontent.net/deadsnakes/ppa/ubuntu jammy/main amd64 python3.9 amd64 3.9.22-1+jammy1 [93.0 kB]\n",
            "Fetched 4,846 kB in 1s (3,246 kB/s)\n",
            "debconf: unable to initialize frontend: Dialog\n",
            "debconf: (No usable dialog-like program is installed, so the dialog based frontend cannot be used. at /usr/share/perl5/Debconf/FrontEnd/Dialog.pm line 78, <> line 4.)\n",
            "debconf: falling back to frontend: Readline\n",
            "debconf: unable to initialize frontend: Readline\n",
            "debconf: (This frontend requires a controlling tty.)\n",
            "debconf: falling back to frontend: Teletype\n",
            "dpkg-preconfigure: unable to re-open stdin: \n",
            "Selecting previously unselected package libpython3.9-minimal:amd64.\n",
            "(Reading database ... 126102 files and directories currently installed.)\n",
            "Preparing to unpack .../libpython3.9-minimal_3.9.22-1+jammy1_amd64.deb ...\n",
            "Unpacking libpython3.9-minimal:amd64 (3.9.22-1+jammy1) ...\n",
            "Selecting previously unselected package python3.9-minimal.\n",
            "Preparing to unpack .../python3.9-minimal_3.9.22-1+jammy1_amd64.deb ...\n",
            "Unpacking python3.9-minimal (3.9.22-1+jammy1) ...\n",
            "Selecting previously unselected package libpython3.9-stdlib:amd64.\n",
            "Preparing to unpack .../libpython3.9-stdlib_3.9.22-1+jammy1_amd64.deb ...\n",
            "Unpacking libpython3.9-stdlib:amd64 (3.9.22-1+jammy1) ...\n",
            "Selecting previously unselected package python3.9.\n",
            "Preparing to unpack .../python3.9_3.9.22-1+jammy1_amd64.deb ...\n",
            "Unpacking python3.9 (3.9.22-1+jammy1) ...\n",
            "Setting up libpython3.9-minimal:amd64 (3.9.22-1+jammy1) ...\n",
            "Setting up python3.9-minimal (3.9.22-1+jammy1) ...\n",
            "Setting up libpython3.9-stdlib:amd64 (3.9.22-1+jammy1) ...\n",
            "Setting up python3.9 (3.9.22-1+jammy1) ...\n",
            "Processing triggers for mailcap (3.70+nmu1ubuntu1) ...\n",
            "Processing triggers for man-db (2.10.2-1) ...\n"
          ]
        }
      ]
    },
    {
      "cell_type": "code",
      "source": [
        "# !sudo update-alternatives --install /usr/bin/python3 python3 /usr/bin/python3.9 1"
      ],
      "metadata": {
        "id": "QOC9nb8272ZJ"
      },
      "id": "QOC9nb8272ZJ",
      "execution_count": 58,
      "outputs": []
    },
    {
      "cell_type": "markdown",
      "source": [
        "### Retreive the data"
      ],
      "metadata": {
        "id": "t50rdEWJ5X16"
      },
      "id": "t50rdEWJ5X16"
    },
    {
      "cell_type": "code",
      "source": [
        "from langchain_core.prompts import PromptTemplate, ChatPromptTemplate\n",
        "from langchain_core.output_parsers import StrOutputParser\n",
        "from langchain_core.runnables import RunnablePassthrough\n",
        "from langchain.retrievers.multi_query import MultiQueryRetriever"
      ],
      "metadata": {
        "id": "xfgzDLx45aHn"
      },
      "id": "xfgzDLx45aHn",
      "execution_count": 42,
      "outputs": []
    },
    {
      "cell_type": "code",
      "source": [
        "\n",
        "QUERY_PROMPT = PromptTemplate(\n",
        "    input_variables=[\"question\"],\n",
        "    template=\"\"\"You are an AI language model assistant. Your task is to generate five\n",
        "    different versions of the given user question to retrieve relevant documents from a vector\n",
        "    database. By generating multiple perspectives on the user question, your goal is to help\n",
        "    the user overcome some of the limitations of the distance-based similarity search.\n",
        "    Provide these alternative questions separated by newlines.\n",
        "    Original question: {question}\"\"\",\n",
        ")\n",
        "\n",
        "retriever = MultiQueryRetriever(\n",
        "    vector_db.as_retriever(search_type=\"mmr\"),\n",
        "    llm=model,\n",
        "    prompt=QUERY_PROMPT,\n",
        "\n",
        ")\n"
      ],
      "metadata": {
        "colab": {
          "base_uri": "https://localhost:8080/",
          "height": 211
        },
        "id": "wcpH9WOh5aby",
        "outputId": "8ebbab09-696e-4aeb-8e02-523ab25ea3c5"
      },
      "id": "wcpH9WOh5aby",
      "execution_count": 43,
      "outputs": [
        {
          "output_type": "error",
          "ename": "NameError",
          "evalue": "name 'vector_db' is not defined",
          "traceback": [
            "\u001b[0;31m---------------------------------------------------------------------------\u001b[0m",
            "\u001b[0;31mNameError\u001b[0m                                 Traceback (most recent call last)",
            "\u001b[0;32m<ipython-input-43-9f863cda8833>\u001b[0m in \u001b[0;36m<cell line: 0>\u001b[0;34m()\u001b[0m\n\u001b[1;32m     10\u001b[0m \u001b[0;34m\u001b[0m\u001b[0m\n\u001b[1;32m     11\u001b[0m retriever = MultiQueryRetriever(\n\u001b[0;32m---> 12\u001b[0;31m     \u001b[0mvector_db\u001b[0m\u001b[0;34m.\u001b[0m\u001b[0mas_retriever\u001b[0m\u001b[0;34m(\u001b[0m\u001b[0msearch_type\u001b[0m\u001b[0;34m=\u001b[0m\u001b[0;34m\"mmr\"\u001b[0m\u001b[0;34m)\u001b[0m\u001b[0;34m,\u001b[0m\u001b[0;34m\u001b[0m\u001b[0;34m\u001b[0m\u001b[0m\n\u001b[0m\u001b[1;32m     13\u001b[0m     \u001b[0mllm\u001b[0m\u001b[0;34m=\u001b[0m\u001b[0mmodel\u001b[0m\u001b[0;34m,\u001b[0m\u001b[0;34m\u001b[0m\u001b[0;34m\u001b[0m\u001b[0m\n\u001b[1;32m     14\u001b[0m     \u001b[0mprompt\u001b[0m\u001b[0;34m=\u001b[0m\u001b[0mQUERY_PROMPT\u001b[0m\u001b[0;34m,\u001b[0m\u001b[0;34m\u001b[0m\u001b[0;34m\u001b[0m\u001b[0m\n",
            "\u001b[0;31mNameError\u001b[0m: name 'vector_db' is not defined"
          ]
        }
      ]
    },
    {
      "cell_type": "code",
      "source": [],
      "metadata": {
        "id": "anXegayB5dMA"
      },
      "id": "anXegayB5dMA",
      "execution_count": null,
      "outputs": []
    }
  ],
  "metadata": {
    "kernelspec": {
      "display_name": "Python 3",
      "language": "python",
      "name": "python3"
    },
    "language_info": {
      "codemirror_mode": {
        "name": "ipython",
        "version": 2
      },
      "file_extension": ".py",
      "mimetype": "text/x-python",
      "name": "python",
      "nbconvert_exporter": "python",
      "pygments_lexer": "ipython2",
      "version": "2.7.6"
    },
    "colab": {
      "provenance": [],
      "include_colab_link": true
    }
  },
  "nbformat": 4,
  "nbformat_minor": 5
}