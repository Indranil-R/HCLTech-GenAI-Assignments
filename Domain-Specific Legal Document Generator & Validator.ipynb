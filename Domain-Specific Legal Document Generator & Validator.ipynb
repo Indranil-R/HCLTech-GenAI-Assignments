{
  "cells": [
    {
      "cell_type": "markdown",
      "metadata": {
        "id": "view-in-github",
        "colab_type": "text"
      },
      "source": [
        "<a href=\"https://colab.research.google.com/github/Indranil-R/Silver-Badge-Assignments/blob/main/Domain-Specific%20Legal%20Document%20Generator%20%26%20Validator.ipynb\" target=\"_parent\"><img src=\"https://colab.research.google.com/assets/colab-badge.svg\" alt=\"Open In Colab\"/></a>"
      ]
    },
    {
      "cell_type": "markdown",
      "id": "76ca2f73",
      "metadata": {
        "id": "76ca2f73"
      },
      "source": [
        "# Domain-Specific Legal Document Generator & Validator"
      ]
    },
    {
      "cell_type": "markdown",
      "id": "2cebe31a",
      "metadata": {
        "id": "2cebe31a"
      },
      "source": [
        "An AI agent that generates legally compliant documents (like NDAs or service agreements) based on user prompts. The agent must verify clauses using a RAG pipeline with internal legal knowledge and public law databases. Incorporate a validation step where the agent flags risky or missing clauses, and offers rewrites for compliance."
      ]
    },
    {
      "cell_type": "markdown",
      "id": "5f6621d7",
      "metadata": {
        "id": "5f6621d7"
      },
      "source": [
        "Below is the Approach used to develop the agent\n",
        "\n",
        "1st step - Identify the user requirements\n",
        "\n",
        "\n",
        "2nd step - Generate the document asked by the user\n",
        "\n",
        "\n",
        "3rd step - Validate the document  "
      ]
    },
    {
      "cell_type": "code",
      "execution_count": 7,
      "metadata": {
        "vscode": {
          "languageId": "plaintext"
        },
        "id": "c54f5e4541b853c0",
        "outputId": "bc7acc9f-4b20-4e22-a7e6-dc91d6a34f0a",
        "colab": {
          "base_uri": "https://localhost:8080/"
        }
      },
      "outputs": [
        {
          "output_type": "stream",
          "name": "stdout",
          "text": [
            "\u001b[?25l   \u001b[90m━━━━━━━━━━━━━━━━━━━━━━━━━━━━━━━━━━━━━━━━\u001b[0m \u001b[32m0.0/2.5 MB\u001b[0m \u001b[31m?\u001b[0m eta \u001b[36m-:--:--\u001b[0m\r\u001b[2K   \u001b[91m━━━━━━━━━━━━━━━━━━━━━━━━━━━━━━━━━━━━━━━\u001b[0m\u001b[91m╸\u001b[0m \u001b[32m2.5/2.5 MB\u001b[0m \u001b[31m76.8 MB/s\u001b[0m eta \u001b[36m0:00:01\u001b[0m\r\u001b[2K   \u001b[90m━━━━━━━━━━━━━━━━━━━━━━━━━━━━━━━━━━━━━━━━\u001b[0m \u001b[32m2.5/2.5 MB\u001b[0m \u001b[31m46.0 MB/s\u001b[0m eta \u001b[36m0:00:00\u001b[0m\n",
            "\u001b[2K   \u001b[90m━━━━━━━━━━━━━━━━━━━━━━━━━━━━━━━━━━━━━━━━\u001b[0m \u001b[32m44.4/44.4 kB\u001b[0m \u001b[31m2.8 MB/s\u001b[0m eta \u001b[36m0:00:00\u001b[0m\n",
            "\u001b[2K   \u001b[90m━━━━━━━━━━━━━━━━━━━━━━━━━━━━━━━━━━━━━━━━\u001b[0m \u001b[32m50.9/50.9 kB\u001b[0m \u001b[31m2.5 MB/s\u001b[0m eta \u001b[36m0:00:00\u001b[0m\n",
            "\u001b[?25h"
          ]
        }
      ],
      "source": [
        "pip install -q langchain langchain_community"
      ],
      "id": "c54f5e4541b853c0"
    },
    {
      "metadata": {
        "jupyter": {
          "is_executing": true
        },
        "id": "744546b787e1bfd4"
      },
      "cell_type": "code",
      "source": [
        "from langchain.chat_models import ChatOpenAI"
      ],
      "id": "744546b787e1bfd4",
      "outputs": [],
      "execution_count": 8
    },
    {
      "metadata": {
        "id": "15f953d8339e7048"
      },
      "cell_type": "code",
      "outputs": [],
      "execution_count": null,
      "source": [],
      "id": "15f953d8339e7048"
    }
  ],
  "metadata": {
    "language_info": {
      "name": "python"
    },
    "colab": {
      "provenance": [],
      "include_colab_link": true
    },
    "kernelspec": {
      "name": "python3",
      "display_name": "Python 3"
    }
  },
  "nbformat": 4,
  "nbformat_minor": 5
}