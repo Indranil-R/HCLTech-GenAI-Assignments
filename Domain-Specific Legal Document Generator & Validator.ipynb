{
  "cells": [
    {
      "cell_type": "markdown",
      "metadata": {
        "id": "view-in-github",
        "colab_type": "text"
      },
      "source": [
        "<a href=\"https://colab.research.google.com/github/Indranil-R/Silver-Badge-Assignments/blob/main/Domain-Specific%20Legal%20Document%20Generator%20%26%20Validator.ipynb\" target=\"_parent\"><img src=\"https://colab.research.google.com/assets/colab-badge.svg\" alt=\"Open In Colab\"/></a>"
      ]
    },
    {
      "cell_type": "markdown",
      "id": "76ca2f73",
      "metadata": {
        "id": "76ca2f73"
      },
      "source": [
        "# Domain-Specific Legal Document Generator & Validator"
      ]
    },
    {
      "cell_type": "markdown",
      "id": "2cebe31a",
      "metadata": {
        "id": "2cebe31a"
      },
      "source": [
        "An AI agent that generates legally compliant documents (like NDAs or service agreements) based on user prompts. The agent must verify clauses using a RAG pipeline with internal legal knowledge and public law databases. Incorporate a validation step where the agent flags risky or missing clauses, and offers rewrites for compliance."
      ]
    },
    {
      "cell_type": "markdown",
      "id": "5f6621d7",
      "metadata": {
        "id": "5f6621d7"
      },
      "source": [
        "Below is the Approach used to develop the agent\n",
        "\n",
        "1st step - Identify the user requirements\n",
        "\n",
        "\n",
        "2nd step - Generate the document asked by the user\n",
        "\n",
        "\n",
        "3rd step - Validate the document  "
      ]
    },
    {
      "metadata": {
        "jupyter": {
          "is_executing": true
        },
        "id": "744546b787e1bfd4"
      },
      "cell_type": "code",
      "source": [
        "import os\n",
        "import requests\n",
        "import json\n",
        "from google.colab import userdata\n",
        "from IPython.display import display, Markdown"
      ],
      "id": "744546b787e1bfd4",
      "outputs": [],
      "execution_count": 5
    },
    {
      "cell_type": "code",
      "source": [
        "# Method to display the text\n",
        "def show_markdown(text):\n",
        "    display(Markdown(text))"
      ],
      "metadata": {
        "id": "RfoCVxOjOioT"
      },
      "id": "RfoCVxOjOioT",
      "execution_count": null,
      "outputs": []
    },
    {
      "metadata": {
        "id": "15f953d8339e7048"
      },
      "cell_type": "code",
      "outputs": [],
      "execution_count": 7,
      "source": [
        "# Main chat session\n",
        "class ChatSession:\n",
        "\n",
        "    def __init__(self, model, system_prompt):\n",
        "        self.api_key = userdata.get('OPENROUTER_API_KEY')\n",
        "\n",
        "        if not self.api_key:\n",
        "            raise ValueError(\"Set OPENROUTER_API_KEY in environment.\")\n",
        "\n",
        "        self.model = model\n",
        "\n",
        "        # Adding the system prompt here\n",
        "        self.messages = [{\"role\": \"system\", \"content\": system_prompt}]\n",
        "\n",
        "        # Open router URL - As I'm using Openrouter\n",
        "        self.url = \"https://openrouter.ai/api/v1/chat/completions\"\n",
        "\n",
        "    def chat(self, user_input):\n",
        "      # Adding teh convo into messages to preserve chat history\n",
        "        self.messages.append({\"role\": \"user\", \"content\": user_input})\n",
        "\n",
        "        headers = {\n",
        "            \"Authorization\": f\"Bearer {self.api_key}\",\n",
        "            \"Content-Type\": \"application/json\",\n",
        "        }\n",
        "\n",
        "        response = requests.post(\n",
        "            url=self.url,\n",
        "            headers=headers,\n",
        "            data=json.dumps({\n",
        "            \"model\": self.model,\n",
        "            \"messages\": self.messages\n",
        "        })\n",
        "        )\n",
        "\n",
        "        if response.status_code == 200:\n",
        "            reply = response.json()['choices'][0]['message']['content']\n",
        "            # Adding teh convo into messages to preserve chat history\n",
        "            self.messages.append({\"role\": \"assistant\", \"content\": reply})\n",
        "            return reply\n",
        "        else:\n",
        "            raise Exception(f\"API call failed: {response.status_code} - {response.text}\")\n"
      ],
      "id": "15f953d8339e7048"
    },
    {
      "cell_type": "code",
      "source": [
        "system_prompt = \"You are a legal assistant specialized in drafting legally compliant documents, NDAs, and service agreements.\"\n",
        "llm = ChatSession(model=\"deepseek/deepseek-prover-v2:free\",system_prompt=system_prompt)"
      ],
      "metadata": {
        "id": "QpGiu-d4Jjc_"
      },
      "id": "QpGiu-d4Jjc_",
      "execution_count": 8,
      "outputs": []
    },
    {
      "cell_type": "code",
      "source": [
        "show_markdown(llm.chat(\"Can you draft an NDA between a US-based company named 'ABC LLC' and an Indian company named 'XYZ Ltd.'?\"))"
      ],
      "metadata": {
        "colab": {
          "base_uri": "https://localhost:8080/",
          "height": 1000
        },
        "id": "gb2Cl2A9KruO",
        "outputId": "0901fd9b-2d81-451e-8e01-874d64c5c474"
      },
      "id": "gb2Cl2A9KruO",
      "execution_count": 13,
      "outputs": [
        {
          "output_type": "display_data",
          "data": {
            "text/plain": [
              "<IPython.core.display.Markdown object>"
            ],
            "text/markdown": "### Nondisclosure Agreement (NDA) between ABC LLC and XYZ Ltd.  \n  \n**This Non-Disclosure Agreement (\"Agreement\")** is made and entered into on [Date], by and between:  \n  \n**ABC LLC** (a [Company Incorporation State] limited liability company, with its principal place of business located at [Address of ABC LLC]) (hereinafter referred to as \"**Disclosing Party**\"), and  \n  \n**XYZ Ltd.** (a company incorporated under the laws of India, with its principal place of business located at [Address of XYZ Ltd.]) (hereinafter referred to as \"**Receiving Party**\").  \n  \nABC LLC and XYZ Ltd. are collectively referred to as the \"**Parties**\" and individually as a \"**Party**\".  \n  \n#### Purpose  \nThe Receiving Party, i.e., XYZ Ltd., shall receive from the Disclosing Party, i.e., ABC LLC, certain information relating to [Specify Purpose – e.g., Business Collaboration, Project Evaluation, etc.]. The Parties wish to define the scope of confidential information to be disclosed and the conditions under which such information shall be protected.  \n  \n#### Definitions  \n1. \"**Confidential Information**\" shall mean any information that is disclosed by the Disclosing Party to the Receiving Party, either directly or indirectly, in writing, orally, or by inspection of tangible objects, including but not limited to:  \n   a. Business and marketing plans,  \n   b. Financial information,  \n   c. Product designs and specifications,  \n   d. Trade secrets,  \n   e. Technical data,  \n   f. Customer and supplier information, and any other information that is marked or otherwise identified as \"confidential\" or \"proprietary\" at the time of disclosure.  \n  \n   Confidential Information also includes (i) the confidential or proprietary information of any third party that is in the possession of the Disclosing Party and is disclosed to the Receiving Party in connection with the Purpose, and (ii) any and all notes, analyses, compilations, or other documents prepared by the Receiving Party containing or based on the Confidential Information.  \n  \n2. \"**Exclusions**\": The term \"Confidential Information\" shall **not** include information that:  \n   a. Is or becomes generally available to the public other than as a result of a disclosure by the Receiving Party or someone to whom the Receiving Party disclosed the Confidential Information;  \n   b. Was available on a non-confidential basis to the Receiving Party prior to its disclosure by the Disclosing Party;  \n   c. Becomes available to the Receiving Party on a non-confidential basis from a source other than the Disclosing Party, provided that such source is not bound by a confidentiality agreement with the Disclosing Party or another party with respect to that information; or  \n   d. Is independently developed by the Receiving Party without reference to or reliance upon any Confidential Information received from the Disclosing Party.  \n  \n#### Obligations of the Receiving Party  \n1. **Confidentiality**: The Receiving Party agrees to maintain the confidentiality of all Confidential Information disclosed by the Disclosing Party and to protect such Confidential Information with the same degree of care (but with no less than reasonable care) as it uses to protect its own confidential information.  \n2. **Use Restrictions**: The Receiving Party shall:  \n   a. Use the Confidential Information only for the Purpose and for no other purpose;  \n   b. Not disclose, publish, or disseminate any Confidential Information to any third party except as expressly permitted in writing by the Disclosing Party; and  \n   c. Not remove any proprietary or confidentiality notices from the Confidential Information.  \n3. **Disclosure to Representatives**: The Receiving Party may disclose Confidential Information only to its officers, directors, employees, and advisors (collectively, \"**Representatives**\") who:  \n   a. Need to know such information for the Purpose, and  \n   b. Are bound by confidentiality obligations no less restrictive than those set forth herein.  \n   The Receiving Party shall ensure that its Representatives comply with the obligations set out in this Agreement and shall be liable for any breach of this Agreement by its Representatives.  \n4. **Compliance with Law**: If the Receiving Party is requested or compelled by law, regulation, or any court or governmental order to disclose any Confidential Information, the Receiving Party shall:  \n   a. Provide the Disclosing Party with prompt written notice so that the Disclosing Party may seek a protective order or other remedy; and  \n   b. Use reasonable efforts to ensure that confidential treatment is accorded to the disclosed information.  \n5. **Return of Confidential Information**: Upon written request by the Disclosing Party at any time, or upon termination of this Agreement, the Receiving Party shall promptly:  \n   a. Return all Confidential Information and any copies, summaries, or extracts thereof in the possession of the Receiving Party or its Representatives; or  \n   b. Irrevocably destroy such Confidential Information and provide written certification of such destruction, unless the Receiving Party is required by applicable law to retain any Confidential Information.  \n  \n#### Term and Termination  \n1. **Term**: This Agreement shall be effective as of the date first written above and shall continue in full force and effect until [Specify Term – e.g., \"two (2) years from the Effective Date\"], unless terminated earlier by either Party in writing.  \n2. **Survival**: The obligations of confidentiality and the restrictions on use set forth in this Agreement shall survive the expiration or termination of this Agreement and shall remain in full force and effect until such time as all Confidential Information no longer qualifies as Confidential Information as set forth in the Definitions section above.  \n  \n#### Miscellaneous  \n1. **No License**: Nothing in this Agreement shall be construed as granting to the Receiving Party any rights or licenses to patents, trademarks, copyrights, or other proprietary rights of the Disclosing Party, unless explicitly stated otherwise.  \n2. **Remedies**: The Receiving Party acknowledges that breach of this Agreement by it or its Representatives may cause irreparable harm to the Disclosing Party for which damages at law may be inadequate. Accordingly, the Disclosing Party may seek injunctive relief to enforce this Agreement, in addition to any other remedies available to it at law or in equity.  \n3. **Governing Law and Jurisdiction**: This Agreement shall be governed by and construed in accordance with the laws of the State of [Specify Governing Law] without regard to its conflict of laws principles. The exclusive jurisdiction and venue for any action or dispute arising out of or in connection with this Agreement shall be in the state or federal courts located in [Specify Jurisdiction]. The Parties consent to such exclusive jurisdiction and waive any objection to venue.  \n4. **Entire Agreement**: This Agreement constitutes the entire understanding between the Parties with respect to the subject matter hereof and supersedes all prior and contemporaneous agreements, understandings, discussions, negotiations, and proposals, whether written or oral, between the Parties.  \n5. **Amendments**: No modification or amendment of this Agreement shall be valid unless made in writing and signed by both Parties.  \n6. **Assignment**: Neither Party may assign this Agreement or any rights or obligations hereunder to any third party without the prior written consent of the other Party.  \n7. **Notices**: All notices and other communications under this Agreement shall be in writing and delivered by hand, by certified mail (return receipt requested), or by a reputable courier service (signature required), and addressed to the addresses listed at the beginning of this Agreement.  \n8. **Severability**: If any provision of this Agreement is held to be unenforceable, the other provisions shall remain in full force and effect.  \n9. **Waiver**: The waiver of any breach of this Agreement shall not constitute a waiver of any subsequent breach.  \n10. **Force Majeure**: Neither Party shall be liable for any failure or delay in performing its obligations under this Agreement to the extent caused by circumstances beyond its reasonable control, including, without limitation, acts of God, natural disasters, war, civil unrest, or government action.  \n11. **Counterparts**: This Agreement may be executed in two (2) or more counterparts, each of which shall be deemed an original but all of which together shall constitute the same instrument.  \n  \nIN WITNESS WHEREOF, the Parties have caused this Agreement to be executed as of the date first written above.  \n  \n| **ABC LLC**                |  \n|----------------------------|  \n| By: ______________________ |  \n| Name: ____________________ |  \n| Title: ___________________ |  \n| __________________________ |  \n| Date: ____________________ |  \n|                            |  \n  \n| **XYZ Ltd.**                |  \n|----------------------------|  \n| By: ______________________ |  \n| Name: ____________________ |  \n| Title: ___________________ |  \n| __________________________ |  \n| Date: ____________________ |  \n|                            |"
          },
          "metadata": {}
        }
      ]
    },
    {
      "cell_type": "code",
      "source": [
        "# verify clauses using a RAG pipeline\n"
      ],
      "metadata": {
        "id": "FqLWCm1OOaA-"
      },
      "id": "FqLWCm1OOaA-",
      "execution_count": null,
      "outputs": []
    }
  ],
  "metadata": {
    "language_info": {
      "name": "python"
    },
    "colab": {
      "provenance": [],
      "include_colab_link": true
    },
    "kernelspec": {
      "name": "python3",
      "display_name": "Python 3"
    }
  },
  "nbformat": 4,
  "nbformat_minor": 5
}