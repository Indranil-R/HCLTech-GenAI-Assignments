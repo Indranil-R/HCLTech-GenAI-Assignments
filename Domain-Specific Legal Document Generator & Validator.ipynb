{
 "cells": [
  {
   "cell_type": "markdown",
   "id": "76ca2f73",
   "metadata": {},
   "source": [
    "# Domain-Specific Legal Document Generator & Validator"
   ]
  },
  {
   "cell_type": "markdown",
   "id": "2cebe31a",
   "metadata": {},
   "source": [
    "An AI agent that generates legally compliant documents (like NDAs or service agreements) based on user prompts. The agent must verify clauses using a RAG pipeline with internal legal knowledge and public law databases. Incorporate a validation step where the agent flags risky or missing clauses, and offers rewrites for compliance."
   ]
  },
  {
   "cell_type": "markdown",
   "id": "5f6621d7",
   "metadata": {},
   "source": [
    "Below is the Approach used to develop the agent\n",
    "\n",
    "1st step - Identify the user requirements\n",
    "\n",
    "\n",
    "2nd step - Generate the document asked by the user\n",
    "\n",
    "\n",
    "3rd step - Validate the document  "
   ]
  },
  {
   "cell_type": "code",
   "execution_count": null,
   "metadata": {
    "vscode": {
     "languageId": "plaintext"
    }
   },
   "outputs": [],
   "source": "pip -install -r requirements.txt",
   "id": "c54f5e4541b853c0"
  },
  {
   "metadata": {
    "jupyter": {
     "is_executing": true
    }
   },
   "cell_type": "code",
   "source": "from langchain.chat_models import ChatOpenAI",
   "id": "744546b787e1bfd4",
   "outputs": [],
   "execution_count": null
  },
  {
   "metadata": {},
   "cell_type": "code",
   "outputs": [],
   "execution_count": null,
   "source": "",
   "id": "15f953d8339e7048"
  }
 ],
 "metadata": {
  "language_info": {
   "name": "python"
  }
 },
 "nbformat": 4,
 "nbformat_minor": 5
}
