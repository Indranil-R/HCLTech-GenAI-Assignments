{
  "cells": [
    {
      "cell_type": "markdown",
      "metadata": {
        "id": "view-in-github",
        "colab_type": "text"
      },
      "source": [
        "<a href=\"https://colab.research.google.com/github/Indranil-R/Silver-Badge-Assignments/blob/main/9.ipynb\" target=\"_parent\"><img src=\"https://colab.research.google.com/assets/colab-badge.svg\" alt=\"Open In Colab\"/></a>"
      ]
    },
    {
      "cell_type": "markdown",
      "source": [
        "# Word2vec model\n",
        "use a prebuilt Word2vec model to find the embedding of the given word"
      ],
      "metadata": {
        "id": "GANLEejsbZsX"
      },
      "id": "GANLEejsbZsX"
    },
    {
      "cell_type": "code",
      "execution_count": 1,
      "id": "initial_id",
      "metadata": {
        "collapsed": true,
        "id": "initial_id",
        "outputId": "e187a191-c930-452b-f492-556eb12ed122",
        "colab": {
          "base_uri": "https://localhost:8080/"
        }
      },
      "outputs": [
        {
          "output_type": "stream",
          "name": "stdout",
          "text": [
            "Requirement already satisfied: kagglehub in /usr/local/lib/python3.11/dist-packages (0.3.12)\n",
            "Collecting gensim\n",
            "  Downloading gensim-4.3.3-cp311-cp311-manylinux_2_17_x86_64.manylinux2014_x86_64.whl.metadata (8.1 kB)\n",
            "Requirement already satisfied: packaging in /usr/local/lib/python3.11/dist-packages (from kagglehub) (24.2)\n",
            "Requirement already satisfied: pyyaml in /usr/local/lib/python3.11/dist-packages (from kagglehub) (6.0.2)\n",
            "Requirement already satisfied: requests in /usr/local/lib/python3.11/dist-packages (from kagglehub) (2.32.3)\n",
            "Requirement already satisfied: tqdm in /usr/local/lib/python3.11/dist-packages (from kagglehub) (4.67.1)\n",
            "Collecting numpy<2.0,>=1.18.5 (from gensim)\n",
            "  Downloading numpy-1.26.4-cp311-cp311-manylinux_2_17_x86_64.manylinux2014_x86_64.whl.metadata (61 kB)\n",
            "\u001b[2K     \u001b[90m━━━━━━━━━━━━━━━━━━━━━━━━━━━━━━━━━━━━━━━━\u001b[0m \u001b[32m61.0/61.0 kB\u001b[0m \u001b[31m3.8 MB/s\u001b[0m eta \u001b[36m0:00:00\u001b[0m\n",
            "\u001b[?25hCollecting scipy<1.14.0,>=1.7.0 (from gensim)\n",
            "  Downloading scipy-1.13.1-cp311-cp311-manylinux_2_17_x86_64.manylinux2014_x86_64.whl.metadata (60 kB)\n",
            "\u001b[2K     \u001b[90m━━━━━━━━━━━━━━━━━━━━━━━━━━━━━━━━━━━━━━━━\u001b[0m \u001b[32m60.6/60.6 kB\u001b[0m \u001b[31m5.2 MB/s\u001b[0m eta \u001b[36m0:00:00\u001b[0m\n",
            "\u001b[?25hRequirement already satisfied: smart-open>=1.8.1 in /usr/local/lib/python3.11/dist-packages (from gensim) (7.1.0)\n",
            "Requirement already satisfied: wrapt in /usr/local/lib/python3.11/dist-packages (from smart-open>=1.8.1->gensim) (1.17.2)\n",
            "Requirement already satisfied: charset-normalizer<4,>=2 in /usr/local/lib/python3.11/dist-packages (from requests->kagglehub) (3.4.2)\n",
            "Requirement already satisfied: idna<4,>=2.5 in /usr/local/lib/python3.11/dist-packages (from requests->kagglehub) (3.10)\n",
            "Requirement already satisfied: urllib3<3,>=1.21.1 in /usr/local/lib/python3.11/dist-packages (from requests->kagglehub) (2.4.0)\n",
            "Requirement already satisfied: certifi>=2017.4.17 in /usr/local/lib/python3.11/dist-packages (from requests->kagglehub) (2025.4.26)\n",
            "Downloading gensim-4.3.3-cp311-cp311-manylinux_2_17_x86_64.manylinux2014_x86_64.whl (26.7 MB)\n",
            "\u001b[2K   \u001b[90m━━━━━━━━━━━━━━━━━━━━━━━━━━━━━━━━━━━━━━━━\u001b[0m \u001b[32m26.7/26.7 MB\u001b[0m \u001b[31m85.0 MB/s\u001b[0m eta \u001b[36m0:00:00\u001b[0m\n",
            "\u001b[?25hDownloading numpy-1.26.4-cp311-cp311-manylinux_2_17_x86_64.manylinux2014_x86_64.whl (18.3 MB)\n",
            "\u001b[2K   \u001b[90m━━━━━━━━━━━━━━━━━━━━━━━━━━━━━━━━━━━━━━━━\u001b[0m \u001b[32m18.3/18.3 MB\u001b[0m \u001b[31m114.0 MB/s\u001b[0m eta \u001b[36m0:00:00\u001b[0m\n",
            "\u001b[?25hDownloading scipy-1.13.1-cp311-cp311-manylinux_2_17_x86_64.manylinux2014_x86_64.whl (38.6 MB)\n",
            "\u001b[2K   \u001b[90m━━━━━━━━━━━━━━━━━━━━━━━━━━━━━━━━━━━━━━━━\u001b[0m \u001b[32m38.6/38.6 MB\u001b[0m \u001b[31m16.6 MB/s\u001b[0m eta \u001b[36m0:00:00\u001b[0m\n",
            "\u001b[?25hInstalling collected packages: numpy, scipy, gensim\n",
            "  Attempting uninstall: numpy\n",
            "    Found existing installation: numpy 2.0.2\n",
            "    Uninstalling numpy-2.0.2:\n",
            "      Successfully uninstalled numpy-2.0.2\n",
            "  Attempting uninstall: scipy\n",
            "    Found existing installation: scipy 1.15.3\n",
            "    Uninstalling scipy-1.15.3:\n",
            "      Successfully uninstalled scipy-1.15.3\n",
            "\u001b[31mERROR: pip's dependency resolver does not currently take into account all the packages that are installed. This behaviour is the source of the following dependency conflicts.\n",
            "tsfresh 0.21.0 requires scipy>=1.14.0; python_version >= \"3.10\", but you have scipy 1.13.1 which is incompatible.\n",
            "thinc 8.3.6 requires numpy<3.0.0,>=2.0.0, but you have numpy 1.26.4 which is incompatible.\u001b[0m\u001b[31m\n",
            "\u001b[0mSuccessfully installed gensim-4.3.3 numpy-1.26.4 scipy-1.13.1\n"
          ]
        }
      ],
      "source": [
        "!pip install -q kagglehub gensim"
      ]
    },
    {
      "cell_type": "code",
      "source": [
        "# Downloading the model first\n",
        "import kagglehub\n",
        "\n",
        "# Download latest version\n",
        "path = kagglehub.dataset_download(\"sugataghosh/google-word2vec\")\n",
        "\n",
        "print(\"Path to dataset files:\", path)"
      ],
      "metadata": {
        "id": "K97ZZfdgby7f",
        "outputId": "e0d752b9-70b0-49d4-a1c7-e80f47776685",
        "colab": {
          "base_uri": "https://localhost:8080/"
        }
      },
      "id": "K97ZZfdgby7f",
      "execution_count": 2,
      "outputs": [
        {
          "output_type": "stream",
          "name": "stdout",
          "text": [
            "Path to dataset files: /kaggle/input/google-word2vec\n"
          ]
        }
      ]
    },
    {
      "cell_type": "code",
      "source": [
        "from gensim.models import KeyedVectors\n",
        "model_path=\"/kaggle/input/google-word2vec/GoogleNews-vectors-negative300.bin\"\n",
        "model=KeyedVectors.load_word2vec_format(model_path,binary=True)"
      ],
      "metadata": {
        "id": "L3QGZERbbkZF"
      },
      "id": "L3QGZERbbkZF",
      "execution_count": 3,
      "outputs": []
    },
    {
      "cell_type": "code",
      "source": [
        "from IPython.display import display"
      ],
      "metadata": {
        "id": "7skn0Rntb3wr"
      },
      "id": "7skn0Rntb3wr",
      "execution_count": 4,
      "outputs": []
    },
    {
      "cell_type": "code",
      "source": [
        "display(model['india'])"
      ],
      "metadata": {
        "id": "PWvZakJjb8CC",
        "outputId": "c2adfd51-6d1f-4641-b24c-992b97114f89",
        "colab": {
          "base_uri": "https://localhost:8080/",
          "height": 1000
        }
      },
      "id": "PWvZakJjb8CC",
      "execution_count": 9,
      "outputs": [
        {
          "output_type": "display_data",
          "data": {
            "text/plain": [
              "array([-2.34375000e-01, -7.17773438e-02,  1.05590820e-02,  3.26171875e-01,\n",
              "       -6.29882812e-02, -1.78710938e-01,  3.17382812e-02, -3.96484375e-01,\n",
              "       -1.69921875e-01, -3.54003906e-02, -1.81640625e-01, -3.28125000e-01,\n",
              "        6.59179688e-02, -2.07031250e-01,  1.19140625e-01,  1.74804688e-01,\n",
              "       -1.10839844e-01,  3.30078125e-01,  5.20019531e-02, -2.47802734e-02,\n",
              "        1.48773193e-03, -1.60156250e-01,  2.70996094e-02, -1.80664062e-01,\n",
              "       -4.14062500e-01,  1.95312500e-01, -3.49609375e-01,  1.03515625e-01,\n",
              "       -8.54492188e-02, -1.48437500e-01, -8.25195312e-02, -2.90527344e-02,\n",
              "       -3.02734375e-01,  1.98974609e-02, -3.26171875e-01,  1.70898438e-01,\n",
              "       -4.55078125e-01, -4.39453125e-03,  4.27734375e-01, -2.13867188e-01,\n",
              "       -6.86645508e-03,  1.23535156e-01,  4.96093750e-01,  3.41796875e-01,\n",
              "        1.70898438e-01, -1.56250000e-01, -9.42382812e-02, -5.73730469e-02,\n",
              "       -1.95312500e-01,  6.44531250e-02, -1.49414062e-01,  1.58203125e-01,\n",
              "        2.53906250e-01,  2.13867188e-01, -2.85156250e-01, -2.77343750e-01,\n",
              "       -2.24609375e-01, -2.96875000e-01, -7.17163086e-03, -3.47656250e-01,\n",
              "       -6.89697266e-03,  8.39843750e-02, -6.34765625e-02, -1.89453125e-01,\n",
              "       -1.02539062e-01, -1.64062500e-01,  4.06265259e-04, -3.34472656e-02,\n",
              "       -2.51953125e-01,  8.69140625e-02, -2.41210938e-01,  2.63671875e-01,\n",
              "       -1.25000000e-01,  4.51660156e-02, -3.47656250e-01, -1.84570312e-01,\n",
              "        1.46484375e-03,  1.77734375e-01, -2.85156250e-01,  2.44140625e-02,\n",
              "       -2.53906250e-01,  2.15820312e-01, -1.83593750e-01, -2.33398438e-01,\n",
              "       -1.79290771e-03,  1.26953125e-01, -1.38671875e-01, -1.29882812e-01,\n",
              "        8.64257812e-02,  1.84631348e-03, -2.69775391e-02,  1.77734375e-01,\n",
              "       -1.09375000e-01, -7.56835938e-02, -2.40478516e-02,  2.05078125e-01,\n",
              "       -5.90820312e-02, -1.13281250e-01,  5.39062500e-01,  2.50000000e-01,\n",
              "       -2.79296875e-01,  1.39648438e-01, -7.71484375e-02,  5.71289062e-02,\n",
              "       -1.24511719e-01,  3.10546875e-01, -2.22656250e-01,  3.55468750e-01,\n",
              "        2.39257812e-01, -2.89306641e-02, -1.59179688e-01, -1.57226562e-01,\n",
              "       -2.95410156e-02,  3.75976562e-02,  1.66015625e-01,  5.39550781e-02,\n",
              "       -2.17773438e-01, -4.33593750e-01,  3.10546875e-01,  2.09960938e-01,\n",
              "       -6.34765625e-02,  6.39648438e-02, -2.22656250e-01,  1.26953125e-01,\n",
              "       -1.11328125e-01, -8.83789062e-02, -7.27539062e-02,  8.72802734e-03,\n",
              "        2.75390625e-01, -8.59375000e-02, -2.42187500e-01,  1.64062500e-01,\n",
              "        1.01562500e-01,  2.73437500e-01,  8.78906250e-02, -2.38281250e-01,\n",
              "       -4.76562500e-01, -1.45507812e-01,  2.48046875e-01, -1.45507812e-01,\n",
              "        2.94921875e-01, -4.39453125e-01,  3.80859375e-02,  7.38525391e-03,\n",
              "       -2.96875000e-01, -2.87109375e-01,  4.62890625e-01,  1.65039062e-01,\n",
              "        2.96875000e-01, -1.93359375e-01,  2.07031250e-01, -4.66796875e-01,\n",
              "        7.37304688e-02, -2.17773438e-01, -2.13867188e-01, -5.39062500e-01,\n",
              "       -1.10351562e-01,  3.82812500e-01, -7.22656250e-02,  1.68945312e-01,\n",
              "       -4.71191406e-02, -3.75976562e-02, -2.75390625e-01, -8.10546875e-02,\n",
              "       -1.08398438e-01, -5.23437500e-01,  6.98242188e-02, -4.37011719e-02,\n",
              "       -9.42382812e-02,  3.86718750e-01, -6.13281250e-01, -1.83105469e-02,\n",
              "       -3.85742188e-02, -1.69921875e-01,  1.00585938e-01, -5.19531250e-01,\n",
              "        4.33593750e-01, -7.81250000e-01,  3.02734375e-01, -5.27343750e-01,\n",
              "        1.90429688e-01,  4.15039062e-02, -1.68945312e-01, -1.33789062e-01,\n",
              "        1.23535156e-01,  2.94921875e-01,  1.61132812e-01,  2.51953125e-01,\n",
              "        1.38671875e-01, -7.22656250e-02, -5.54199219e-02,  2.43164062e-01,\n",
              "       -3.49609375e-01, -1.09375000e-01,  3.02734375e-01,  1.27929688e-01,\n",
              "        8.59375000e-02, -2.36328125e-01,  1.10839844e-01, -1.38671875e-01,\n",
              "       -2.63671875e-01, -5.95703125e-02, -3.14941406e-02, -4.08203125e-01,\n",
              "       -6.59179688e-02,  5.73730469e-02, -2.11914062e-01, -3.26171875e-01,\n",
              "       -7.95898438e-02,  1.78710938e-01, -2.47070312e-01,  2.09960938e-01,\n",
              "       -4.29687500e-01, -7.03125000e-02, -3.30078125e-01, -5.76782227e-03,\n",
              "        1.72851562e-01,  1.63085938e-01, -1.07910156e-01,  9.42382812e-02,\n",
              "       -1.99218750e-01, -2.11914062e-01,  7.37304688e-02,  1.82617188e-01,\n",
              "       -1.47460938e-01,  9.17968750e-02, -1.06201172e-02, -1.27929688e-01,\n",
              "        6.10351562e-04, -4.49218750e-02, -1.28906250e-01, -2.63671875e-01,\n",
              "        1.88476562e-01, -2.14843750e-01, -1.55273438e-01,  1.73828125e-01,\n",
              "        6.56127930e-03,  1.09252930e-02, -6.44531250e-02,  2.94921875e-01,\n",
              "        3.12500000e-01,  1.20605469e-01,  3.97949219e-02,  8.05664062e-02,\n",
              "        9.47265625e-02,  1.11328125e-01, -2.98828125e-01,  1.09375000e-01,\n",
              "       -2.05078125e-01, -1.20605469e-01,  2.98828125e-01, -7.22656250e-02,\n",
              "        3.14453125e-01,  1.29882812e-01,  3.49121094e-02, -9.71679688e-02,\n",
              "       -2.25585938e-01, -7.04956055e-03,  3.06640625e-01, -1.77734375e-01,\n",
              "        1.04492188e-01,  7.42187500e-02,  3.00781250e-01, -4.33593750e-01,\n",
              "        9.13085938e-02,  4.12597656e-02, -1.15722656e-01,  1.77001953e-02,\n",
              "        1.90429688e-01, -1.07421875e-01, -1.20117188e-01, -1.71875000e-01,\n",
              "       -7.81250000e-02,  2.62451172e-02,  3.80859375e-02, -2.19726562e-01,\n",
              "       -1.10351562e-01, -6.05468750e-02, -4.41406250e-01,  2.19726562e-01,\n",
              "        3.34472656e-02,  5.68847656e-02, -3.34472656e-02,  2.53906250e-01,\n",
              "       -9.37500000e-02, -4.78515625e-02,  1.36718750e-01,  1.10839844e-01,\n",
              "       -1.21582031e-01,  1.37695312e-01, -3.32031250e-02,  3.08593750e-01,\n",
              "        3.41796875e-02, -1.83105469e-02, -7.56835938e-02,  6.59179688e-02,\n",
              "       -1.50390625e-01, -9.52148438e-02, -1.16210938e-01, -1.12304688e-01],\n",
              "      dtype=float32)"
            ]
          },
          "metadata": {}
        }
      ]
    },
    {
      "cell_type": "code",
      "source": [
        "display(model.most_similar('generative',topn=6))"
      ],
      "metadata": {
        "id": "7brqqsU1cBPt",
        "outputId": "53c27475-66f5-4eec-f0b9-7fdbc48c86c5",
        "colab": {
          "base_uri": "https://localhost:8080/",
          "height": 121
        }
      },
      "id": "7brqqsU1cBPt",
      "execution_count": 6,
      "outputs": [
        {
          "output_type": "display_data",
          "data": {
            "text/plain": [
              "[('exploration', 0.4903479218482971),\n",
              " ('artmaking', 0.46826955676078796),\n",
              " ('bearing_hydrothermal', 0.4527990520000458),\n",
              " ('Oreana_trend', 0.4463753402233124),\n",
              " ('Zuun_Mod_deposit', 0.4448040723800659),\n",
              " ('emancipatory', 0.4424628019332886)]"
            ]
          },
          "metadata": {}
        }
      ]
    },
    {
      "cell_type": "code",
      "source": [
        "display(model.doesnt_match('cricket soccer badminton israel'.split()))"
      ],
      "metadata": {
        "id": "OwxnPX1ccYC-",
        "outputId": "f53024ef-d1da-4c5b-b16c-03ab123d1314",
        "colab": {
          "base_uri": "https://localhost:8080/",
          "height": 36
        }
      },
      "id": "OwxnPX1ccYC-",
      "execution_count": 8,
      "outputs": [
        {
          "output_type": "display_data",
          "data": {
            "text/plain": [
              "'israel'"
            ],
            "application/vnd.google.colaboratory.intrinsic+json": {
              "type": "string"
            }
          },
          "metadata": {}
        }
      ]
    }
  ],
  "metadata": {
    "kernelspec": {
      "display_name": "Python 3",
      "name": "python3"
    },
    "language_info": {
      "codemirror_mode": {
        "name": "ipython",
        "version": 2
      },
      "file_extension": ".py",
      "mimetype": "text/x-python",
      "name": "python",
      "nbconvert_exporter": "python",
      "pygments_lexer": "ipython2",
      "version": "2.7.6"
    },
    "colab": {
      "provenance": [],
      "include_colab_link": true
    }
  },
  "nbformat": 4,
  "nbformat_minor": 5
}